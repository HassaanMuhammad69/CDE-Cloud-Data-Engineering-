{
 "cells": [
  {
   "cell_type": "markdown",
   "id": "b28e4fa2-948c-417f-b745-8b24d29b8303",
   "metadata": {},
   "source": [
    "## List"
   ]
  },
  {
   "cell_type": "code",
   "execution_count": 120,
   "id": "14710235-763b-4456-b263-ee634fd13050",
   "metadata": {},
   "outputs": [],
   "source": [
    "city_0 = \"Atlanta\"\n",
    "city_1 = \"Baltimore\"\n",
    "city_2 = \"Chicago\"\n",
    "city_3 = \"Denver\"\n",
    "city_4 = \"Los Angeles\"\n",
    "city_5 = \"Seattle\""
   ]
  },
  {
   "cell_type": "code",
   "execution_count": 121,
   "id": "b553f12e-02ae-4279-b608-cd303cead7b6",
   "metadata": {},
   "outputs": [
    {
     "data": {
      "text/plain": [
       "(2366729033152, 2366732097328)"
      ]
     },
     "execution_count": 121,
     "metadata": {},
     "output_type": "execute_result"
    }
   ],
   "source": [
    "id(city_0), id(city_1)"
   ]
  },
  {
   "cell_type": "markdown",
   "id": "4d63f030-2ba4-4d2e-9a2a-6865fd01bb19",
   "metadata": {},
   "source": [
    "- Managing collection of values\n",
    "- SLower\n",
    "- Solution: Data structure for collection of values : List"
   ]
  },
  {
   "cell_type": "code",
   "execution_count": 122,
   "id": "6ca76d4a-cdf1-400a-afd5-2a37e7705b23",
   "metadata": {},
   "outputs": [],
   "source": [
    "cities= [\"Atlanta\",\"Baltimore\",\"Chicago\",\"Denver\",\"Los Angeles\",\"Seattle\"]"
   ]
  },
  {
   "cell_type": "code",
   "execution_count": 123,
   "id": "a2f87743-2fa1-4a75-8be3-b2e99107fd29",
   "metadata": {},
   "outputs": [
    {
     "name": "stdout",
     "output_type": "stream",
     "text": [
      "<class 'list'> 2366740709760\n"
     ]
    }
   ],
   "source": [
    "print(type(cities), id(cities))"
   ]
  },
  {
   "cell_type": "code",
   "execution_count": 124,
   "id": "c60ddeab-71c8-4dd3-904f-e143b27704a9",
   "metadata": {},
   "outputs": [],
   "source": [
    "cities.append(\"Karachi\")"
   ]
  },
  {
   "cell_type": "code",
   "execution_count": 125,
   "id": "a19dd909-32c1-42af-8019-5c78ff5456bb",
   "metadata": {},
   "outputs": [
    {
     "data": {
      "text/plain": [
       "['Atlanta',\n",
       " 'Baltimore',\n",
       " 'Chicago',\n",
       " 'Denver',\n",
       " 'Los Angeles',\n",
       " 'Seattle',\n",
       " 'Karachi']"
      ]
     },
     "execution_count": 125,
     "metadata": {},
     "output_type": "execute_result"
    }
   ],
   "source": [
    "cities"
   ]
  },
  {
   "cell_type": "code",
   "execution_count": 126,
   "id": "a075094c-8e63-42fe-997d-5882be07f42a",
   "metadata": {},
   "outputs": [
    {
     "data": {
      "text/plain": [
       "1"
      ]
     },
     "execution_count": 126,
     "metadata": {},
     "output_type": "execute_result"
    }
   ],
   "source": [
    "cities.count(\"Karachi\")"
   ]
  },
  {
   "cell_type": "code",
   "execution_count": 127,
   "id": "249fa7e2-3f87-4aeb-8ee8-2e332adfddb2",
   "metadata": {},
   "outputs": [],
   "source": [
    "cities.extend([\"Islamabad\",\"Quetta\"])"
   ]
  },
  {
   "cell_type": "code",
   "execution_count": 128,
   "id": "918b55c2-70ad-423c-acbd-b33034638389",
   "metadata": {},
   "outputs": [
    {
     "data": {
      "text/plain": [
       "['Atlanta',\n",
       " 'Baltimore',\n",
       " 'Chicago',\n",
       " 'Denver',\n",
       " 'Los Angeles',\n",
       " 'Seattle',\n",
       " 'Karachi',\n",
       " 'Islamabad',\n",
       " 'Quetta']"
      ]
     },
     "execution_count": 128,
     "metadata": {},
     "output_type": "execute_result"
    }
   ],
   "source": [
    "cities"
   ]
  },
  {
   "cell_type": "code",
   "execution_count": 129,
   "id": "9675de4b-ebec-440d-b6b9-214b828182b9",
   "metadata": {},
   "outputs": [],
   "source": [
    "cities.insert(1,\"Kohat\")"
   ]
  },
  {
   "cell_type": "code",
   "execution_count": 130,
   "id": "32c169c8-e342-430a-be31-0158a51e93e1",
   "metadata": {},
   "outputs": [
    {
     "data": {
      "text/plain": [
       "['Atlanta',\n",
       " 'Kohat',\n",
       " 'Baltimore',\n",
       " 'Chicago',\n",
       " 'Denver',\n",
       " 'Los Angeles',\n",
       " 'Seattle',\n",
       " 'Karachi',\n",
       " 'Islamabad',\n",
       " 'Quetta']"
      ]
     },
     "execution_count": 130,
     "metadata": {},
     "output_type": "execute_result"
    }
   ],
   "source": [
    "cities"
   ]
  },
  {
   "cell_type": "code",
   "execution_count": 131,
   "id": "4ac5d5c0-6121-4c5e-9e8b-ea8d693d7bb0",
   "metadata": {},
   "outputs": [
    {
     "data": {
      "text/plain": [
       "7"
      ]
     },
     "execution_count": 131,
     "metadata": {},
     "output_type": "execute_result"
    }
   ],
   "source": [
    "cities.index(\"Karachi\")"
   ]
  },
  {
   "cell_type": "code",
   "execution_count": 132,
   "id": "e4521214-b6a9-496e-8d20-c2a76770670b",
   "metadata": {},
   "outputs": [
    {
     "data": {
      "text/plain": [
       "'Karachi'"
      ]
     },
     "execution_count": 132,
     "metadata": {},
     "output_type": "execute_result"
    }
   ],
   "source": [
    "cities.pop(7)"
   ]
  },
  {
   "cell_type": "code",
   "execution_count": 133,
   "id": "baf55e9c-3393-4ddc-93be-b03368abf5a6",
   "metadata": {},
   "outputs": [
    {
     "data": {
      "text/plain": [
       "['Atlanta',\n",
       " 'Kohat',\n",
       " 'Baltimore',\n",
       " 'Chicago',\n",
       " 'Denver',\n",
       " 'Los Angeles',\n",
       " 'Seattle',\n",
       " 'Islamabad',\n",
       " 'Quetta']"
      ]
     },
     "execution_count": 133,
     "metadata": {},
     "output_type": "execute_result"
    }
   ],
   "source": [
    "cities"
   ]
  },
  {
   "cell_type": "code",
   "execution_count": 134,
   "id": "968bc7b7-ef06-450a-8fcd-8f72176dbac3",
   "metadata": {},
   "outputs": [],
   "source": [
    "cities.append(\"Kohat\")"
   ]
  },
  {
   "cell_type": "code",
   "execution_count": 135,
   "id": "ed84840a-373b-4309-9a97-ecc31e21329a",
   "metadata": {},
   "outputs": [
    {
     "data": {
      "text/plain": [
       "['Atlanta',\n",
       " 'Kohat',\n",
       " 'Baltimore',\n",
       " 'Chicago',\n",
       " 'Denver',\n",
       " 'Los Angeles',\n",
       " 'Seattle',\n",
       " 'Islamabad',\n",
       " 'Quetta',\n",
       " 'Kohat']"
      ]
     },
     "execution_count": 135,
     "metadata": {},
     "output_type": "execute_result"
    }
   ],
   "source": [
    "cities"
   ]
  },
  {
   "cell_type": "code",
   "execution_count": 136,
   "id": "319c7487-c207-43b8-968d-0d00e88c3ab1",
   "metadata": {},
   "outputs": [],
   "source": [
    "cities.remove(\"Kohat\")"
   ]
  },
  {
   "cell_type": "code",
   "execution_count": 137,
   "id": "ed929c29-3959-4cab-86a3-d95f9b07196b",
   "metadata": {},
   "outputs": [
    {
     "data": {
      "text/plain": [
       "['Atlanta',\n",
       " 'Baltimore',\n",
       " 'Chicago',\n",
       " 'Denver',\n",
       " 'Los Angeles',\n",
       " 'Seattle',\n",
       " 'Islamabad',\n",
       " 'Quetta',\n",
       " 'Kohat']"
      ]
     },
     "execution_count": 137,
     "metadata": {},
     "output_type": "execute_result"
    }
   ],
   "source": [
    "cities"
   ]
  },
  {
   "cell_type": "code",
   "execution_count": 138,
   "id": "d53dd2ab-2d83-4ea8-8458-69c0b9624a7b",
   "metadata": {},
   "outputs": [],
   "source": [
    "cities.reverse()"
   ]
  },
  {
   "cell_type": "code",
   "execution_count": 139,
   "id": "95906c05-e83c-498a-9009-2a1e0be389ad",
   "metadata": {},
   "outputs": [
    {
     "data": {
      "text/plain": [
       "['Kohat',\n",
       " 'Quetta',\n",
       " 'Islamabad',\n",
       " 'Seattle',\n",
       " 'Los Angeles',\n",
       " 'Denver',\n",
       " 'Chicago',\n",
       " 'Baltimore',\n",
       " 'Atlanta']"
      ]
     },
     "execution_count": 139,
     "metadata": {},
     "output_type": "execute_result"
    }
   ],
   "source": [
    "cities"
   ]
  },
  {
   "cell_type": "code",
   "execution_count": 140,
   "id": "a2236149-9a56-490f-82df-736bcc35a61c",
   "metadata": {},
   "outputs": [],
   "source": [
    "cities.clear() #clear the list"
   ]
  },
  {
   "cell_type": "code",
   "execution_count": 141,
   "id": "a1e45e8b-0685-4b43-856c-9c4ca015ca29",
   "metadata": {},
   "outputs": [
    {
     "data": {
      "text/plain": [
       "[]"
      ]
     },
     "execution_count": 141,
     "metadata": {},
     "output_type": "execute_result"
    }
   ],
   "source": [
    "cities"
   ]
  },
  {
   "cell_type": "markdown",
   "id": "33eeaa28-24bb-4237-91a3-ce182c82c483",
   "metadata": {},
   "source": [
    "## Shallow copy and Deep copy"
   ]
  },
  {
   "cell_type": "markdown",
   "id": "6415f444-d50b-4748-8f1d-1a7351102ec4",
   "metadata": {},
   "source": [
    "### keep values at different addreess "
   ]
  },
  {
   "cell_type": "code",
   "execution_count": 142,
   "id": "b0c1e519-8371-4839-a278-be3ea05b1cb6",
   "metadata": {},
   "outputs": [],
   "source": [
    "cities= ['Kohat',\n",
    " 'Quetta',\n",
    " 'Islamabad',\n",
    " 'Seattle',\n",
    " 'Los Angeles',\n",
    " 'Denver',\n",
    " 'Chicago',\n",
    " 'Baltimore',\n",
    " 'Atlanta']"
   ]
  },
  {
   "cell_type": "code",
   "execution_count": 143,
   "id": "43b17657-15bf-4550-b20a-b4d8858225a7",
   "metadata": {},
   "outputs": [],
   "source": [
    "cities_new= cities.copy()"
   ]
  },
  {
   "cell_type": "code",
   "execution_count": 144,
   "id": "99ce5ade-dc5d-4d1d-be33-13095b0fc440",
   "metadata": {},
   "outputs": [
    {
     "name": "stdout",
     "output_type": "stream",
     "text": [
      "<class 'list'> 2366751889856\n"
     ]
    }
   ],
   "source": [
    "print(type(cities_new), id(cities_new))"
   ]
  },
  {
   "cell_type": "code",
   "execution_count": 145,
   "id": "50be8239-c872-4d97-a728-fcb0f4ff0297",
   "metadata": {},
   "outputs": [
    {
     "name": "stdout",
     "output_type": "stream",
     "text": [
      "<class 'list'> 2366752044672\n"
     ]
    }
   ],
   "source": [
    "print(type(cities), id(cities))"
   ]
  },
  {
   "cell_type": "markdown",
   "id": "2dfaa320-520c-4d19-859c-31ee5305bb89",
   "metadata": {},
   "source": [
    "### Changing valuse at on doesnt affect the other one"
   ]
  },
  {
   "cell_type": "code",
   "execution_count": 146,
   "id": "7bbcb736-dd62-4150-be09-95193724fdde",
   "metadata": {},
   "outputs": [],
   "source": [
    "cities_new.append(\"Hyderabad\")"
   ]
  },
  {
   "cell_type": "code",
   "execution_count": 147,
   "id": "1c21e677-d74c-438b-b347-e6d83df5b0b3",
   "metadata": {},
   "outputs": [
    {
     "data": {
      "text/plain": [
       "['Kohat',\n",
       " 'Quetta',\n",
       " 'Islamabad',\n",
       " 'Seattle',\n",
       " 'Los Angeles',\n",
       " 'Denver',\n",
       " 'Chicago',\n",
       " 'Baltimore',\n",
       " 'Atlanta',\n",
       " 'Hyderabad']"
      ]
     },
     "execution_count": 147,
     "metadata": {},
     "output_type": "execute_result"
    }
   ],
   "source": [
    "cities_new"
   ]
  },
  {
   "cell_type": "code",
   "execution_count": 148,
   "id": "667ec61d-7c75-45e7-9f16-fa3e4e17fcad",
   "metadata": {},
   "outputs": [
    {
     "data": {
      "text/plain": [
       "['Kohat',\n",
       " 'Quetta',\n",
       " 'Islamabad',\n",
       " 'Seattle',\n",
       " 'Los Angeles',\n",
       " 'Denver',\n",
       " 'Chicago',\n",
       " 'Baltimore',\n",
       " 'Atlanta']"
      ]
     },
     "execution_count": 148,
     "metadata": {},
     "output_type": "execute_result"
    }
   ],
   "source": [
    "cities"
   ]
  },
  {
   "cell_type": "markdown",
   "id": "87129c0f-bd78-4282-a751-51383a865b84",
   "metadata": {},
   "source": [
    "## Task \n",
    "\n",
    "- Impelend deep copy on list\n",
    "- Adding value at different index with 'insert()' method\n"
   ]
  },
  {
   "cell_type": "code",
   "execution_count": 149,
   "id": "328d7f7f-c238-4ad4-9f59-88e12400a659",
   "metadata": {},
   "outputs": [],
   "source": [
    "cities[0]= \"London\""
   ]
  },
  {
   "cell_type": "code",
   "execution_count": 150,
   "id": "b1f37346-dfb9-47a7-bd69-5f853ff96fa8",
   "metadata": {},
   "outputs": [
    {
     "data": {
      "text/plain": [
       "['London',\n",
       " 'Quetta',\n",
       " 'Islamabad',\n",
       " 'Seattle',\n",
       " 'Los Angeles',\n",
       " 'Denver',\n",
       " 'Chicago',\n",
       " 'Baltimore',\n",
       " 'Atlanta']"
      ]
     },
     "execution_count": 150,
     "metadata": {},
     "output_type": "execute_result"
    }
   ],
   "source": [
    "cities"
   ]
  },
  {
   "cell_type": "code",
   "execution_count": 151,
   "id": "3df31a7f-a655-4616-868c-aa2be2403ab2",
   "metadata": {},
   "outputs": [],
   "source": [
    "cities_new= cities"
   ]
  },
  {
   "cell_type": "code",
   "execution_count": 152,
   "id": "5c4fa83b-7a4e-4306-8d20-11cc07322a30",
   "metadata": {},
   "outputs": [
    {
     "data": {
      "text/plain": [
       "(['London',\n",
       "  'Quetta',\n",
       "  'Islamabad',\n",
       "  'Seattle',\n",
       "  'Los Angeles',\n",
       "  'Denver',\n",
       "  'Chicago',\n",
       "  'Baltimore',\n",
       "  'Atlanta'],\n",
       " ['London',\n",
       "  'Quetta',\n",
       "  'Islamabad',\n",
       "  'Seattle',\n",
       "  'Los Angeles',\n",
       "  'Denver',\n",
       "  'Chicago',\n",
       "  'Baltimore',\n",
       "  'Atlanta'])"
      ]
     },
     "execution_count": 152,
     "metadata": {},
     "output_type": "execute_result"
    }
   ],
   "source": [
    "cities_new, cities"
   ]
  },
  {
   "cell_type": "code",
   "execution_count": 153,
   "id": "15d9b582-abf6-4f3a-af3d-d28c83f37eb0",
   "metadata": {},
   "outputs": [],
   "source": [
    "cities.append(\"Gujrat\")"
   ]
  },
  {
   "cell_type": "code",
   "execution_count": 154,
   "id": "7becf625-aadf-41a4-aa68-cf78e775d2b6",
   "metadata": {},
   "outputs": [
    {
     "data": {
      "text/plain": [
       "(['London',\n",
       "  'Quetta',\n",
       "  'Islamabad',\n",
       "  'Seattle',\n",
       "  'Los Angeles',\n",
       "  'Denver',\n",
       "  'Chicago',\n",
       "  'Baltimore',\n",
       "  'Atlanta',\n",
       "  'Gujrat'],\n",
       " ['London',\n",
       "  'Quetta',\n",
       "  'Islamabad',\n",
       "  'Seattle',\n",
       "  'Los Angeles',\n",
       "  'Denver',\n",
       "  'Chicago',\n",
       "  'Baltimore',\n",
       "  'Atlanta',\n",
       "  'Gujrat'])"
      ]
     },
     "execution_count": 154,
     "metadata": {},
     "output_type": "execute_result"
    }
   ],
   "source": [
    "cities_new, cities"
   ]
  },
  {
   "cell_type": "markdown",
   "id": "26f092d1-b17b-468f-89f0-259d877de0d7",
   "metadata": {},
   "source": [
    "## Slicing on List"
   ]
  },
  {
   "cell_type": "code",
   "execution_count": 155,
   "id": "490a998a-8a5a-4c23-83e8-76d76735452d",
   "metadata": {},
   "outputs": [
    {
     "data": {
      "text/plain": [
       "['London',\n",
       " 'Quetta',\n",
       " 'Islamabad',\n",
       " 'Seattle',\n",
       " 'Los Angeles',\n",
       " 'Denver',\n",
       " 'Chicago',\n",
       " 'Baltimore',\n",
       " 'Atlanta',\n",
       " 'Gujrat']"
      ]
     },
     "execution_count": 155,
     "metadata": {},
     "output_type": "execute_result"
    }
   ],
   "source": [
    "cities"
   ]
  },
  {
   "cell_type": "code",
   "execution_count": 156,
   "id": "a503ae9e-3ba8-4c1f-81e1-a47f7e58c330",
   "metadata": {},
   "outputs": [
    {
     "data": {
      "text/plain": [
       "['London', 'Quetta', 'Islamabad', 'Seattle', 'Los Angeles', 'Denver']"
      ]
     },
     "execution_count": 156,
     "metadata": {},
     "output_type": "execute_result"
    }
   ],
   "source": [
    "cities[:6]"
   ]
  },
  {
   "cell_type": "code",
   "execution_count": 157,
   "id": "d16639f3-3ea6-4cfc-9de5-a63a4d0cc2ba",
   "metadata": {},
   "outputs": [
    {
     "data": {
      "text/plain": [
       "['Islamabad', 'Seattle', 'Los Angeles', 'Denver']"
      ]
     },
     "execution_count": 157,
     "metadata": {},
     "output_type": "execute_result"
    }
   ],
   "source": [
    "cities[2:6]"
   ]
  },
  {
   "cell_type": "code",
   "execution_count": 158,
   "id": "0bd5c594-0da4-494e-a263-f6ef7dcdd1b7",
   "metadata": {},
   "outputs": [
    {
     "data": {
      "text/plain": [
       "['Seattle',\n",
       " 'Los Angeles',\n",
       " 'Denver',\n",
       " 'Chicago',\n",
       " 'Baltimore',\n",
       " 'Atlanta',\n",
       " 'Gujrat']"
      ]
     },
     "execution_count": 158,
     "metadata": {},
     "output_type": "execute_result"
    }
   ],
   "source": [
    "cities[3:]"
   ]
  },
  {
   "cell_type": "code",
   "execution_count": 159,
   "id": "de3aff89-65be-4fb7-b1af-edfdfded15e2",
   "metadata": {},
   "outputs": [
    {
     "data": {
      "text/plain": [
       "['Gujrat',\n",
       " 'Atlanta',\n",
       " 'Baltimore',\n",
       " 'Chicago',\n",
       " 'Denver',\n",
       " 'Los Angeles',\n",
       " 'Seattle',\n",
       " 'Islamabad',\n",
       " 'Quetta',\n",
       " 'London']"
      ]
     },
     "execution_count": 159,
     "metadata": {},
     "output_type": "execute_result"
    }
   ],
   "source": [
    "cities[::-1] #reverse"
   ]
  },
  {
   "cell_type": "markdown",
   "id": "b8b84cef-90f2-408b-9963-3e06cd58b0c7",
   "metadata": {},
   "source": [
    "### Task: Crate a list of name and apply all methods we learn today"
   ]
  },
  {
   "cell_type": "code",
   "execution_count": 160,
   "id": "aabd8531-e316-48d5-a0b6-e13f56c5d150",
   "metadata": {},
   "outputs": [],
   "source": [
    "Std= [\n",
    "    \"Huzaifa\",\n",
    "    \"Hassaan\",\n",
    "    \"Saad\",\n",
    "    \"Ali\",\n",
    "    \"Bilal\",\n",
    "    \"Zohair\"\n",
    "]"
   ]
  },
  {
   "cell_type": "code",
   "execution_count": 161,
   "id": "397600ae-93c8-4059-a8a4-c8f6296bac4c",
   "metadata": {},
   "outputs": [],
   "source": [
    "Std.append(\"Hisham\")"
   ]
  },
  {
   "cell_type": "code",
   "execution_count": 162,
   "id": "2c9cb145-30f3-427e-bc3a-bc3f5b5c443e",
   "metadata": {},
   "outputs": [
    {
     "data": {
      "text/plain": [
       "['Huzaifa', 'Hassaan', 'Saad', 'Ali', 'Bilal', 'Zohair', 'Hisham']"
      ]
     },
     "execution_count": 162,
     "metadata": {},
     "output_type": "execute_result"
    }
   ],
   "source": [
    "Std"
   ]
  },
  {
   "cell_type": "code",
   "execution_count": 163,
   "id": "1edd88f0-b66e-44ae-b931-c421111b17c5",
   "metadata": {},
   "outputs": [
    {
     "data": {
      "text/plain": [
       "1"
      ]
     },
     "execution_count": 163,
     "metadata": {},
     "output_type": "execute_result"
    }
   ],
   "source": [
    "Std.count(\"Saad\")"
   ]
  },
  {
   "cell_type": "code",
   "execution_count": 164,
   "id": "06929804-dd28-467e-853d-83eac5e3ac99",
   "metadata": {},
   "outputs": [],
   "source": [
    "Std.extend([\"Ahmed\",\"Bari\"])"
   ]
  },
  {
   "cell_type": "code",
   "execution_count": 165,
   "id": "646584b1-7067-496a-a02b-50b7a56acef6",
   "metadata": {},
   "outputs": [
    {
     "data": {
      "text/plain": [
       "['Huzaifa',\n",
       " 'Hassaan',\n",
       " 'Saad',\n",
       " 'Ali',\n",
       " 'Bilal',\n",
       " 'Zohair',\n",
       " 'Hisham',\n",
       " 'Ahmed',\n",
       " 'Bari']"
      ]
     },
     "execution_count": 165,
     "metadata": {},
     "output_type": "execute_result"
    }
   ],
   "source": [
    "Std"
   ]
  },
  {
   "cell_type": "code",
   "execution_count": 166,
   "id": "45041dd5-ce1e-449c-b591-f0acf1f901d5",
   "metadata": {},
   "outputs": [],
   "source": [
    "Std.insert(1,\"Hasseb\")"
   ]
  },
  {
   "cell_type": "code",
   "execution_count": 167,
   "id": "0275de9d-6e22-476f-880e-52513a49d4d9",
   "metadata": {},
   "outputs": [
    {
     "data": {
      "text/plain": [
       "['Huzaifa',\n",
       " 'Hasseb',\n",
       " 'Hassaan',\n",
       " 'Saad',\n",
       " 'Ali',\n",
       " 'Bilal',\n",
       " 'Zohair',\n",
       " 'Hisham',\n",
       " 'Ahmed',\n",
       " 'Bari']"
      ]
     },
     "execution_count": 167,
     "metadata": {},
     "output_type": "execute_result"
    }
   ],
   "source": [
    "Std"
   ]
  },
  {
   "cell_type": "code",
   "execution_count": 168,
   "id": "e1c505e0-8871-4dfb-ac7b-523375134060",
   "metadata": {},
   "outputs": [
    {
     "data": {
      "text/plain": [
       "2"
      ]
     },
     "execution_count": 168,
     "metadata": {},
     "output_type": "execute_result"
    }
   ],
   "source": [
    "Std.index(\"Hassaan\")"
   ]
  },
  {
   "cell_type": "code",
   "execution_count": 169,
   "id": "c0a8fc48-ee2e-45cc-906d-201fe8ac997c",
   "metadata": {},
   "outputs": [
    {
     "data": {
      "text/plain": [
       "'Bari'"
      ]
     },
     "execution_count": 169,
     "metadata": {},
     "output_type": "execute_result"
    }
   ],
   "source": [
    "Std.pop()"
   ]
  },
  {
   "cell_type": "code",
   "execution_count": 170,
   "id": "e501ed0f-96db-4e3e-84a5-701975a415c1",
   "metadata": {},
   "outputs": [
    {
     "data": {
      "text/plain": [
       "['Huzaifa',\n",
       " 'Hasseb',\n",
       " 'Hassaan',\n",
       " 'Saad',\n",
       " 'Ali',\n",
       " 'Bilal',\n",
       " 'Zohair',\n",
       " 'Hisham',\n",
       " 'Ahmed']"
      ]
     },
     "execution_count": 170,
     "metadata": {},
     "output_type": "execute_result"
    }
   ],
   "source": [
    "Std"
   ]
  },
  {
   "cell_type": "code",
   "execution_count": 171,
   "id": "6ea64bf8-5861-4f3f-bd00-3900d10b7f80",
   "metadata": {},
   "outputs": [],
   "source": [
    "Std.insert(0,\"Hassaan\")"
   ]
  },
  {
   "cell_type": "code",
   "execution_count": 172,
   "id": "82b91837-07c7-49f2-9841-8223511db47b",
   "metadata": {},
   "outputs": [
    {
     "data": {
      "text/plain": [
       "['Hassaan',\n",
       " 'Huzaifa',\n",
       " 'Hasseb',\n",
       " 'Hassaan',\n",
       " 'Saad',\n",
       " 'Ali',\n",
       " 'Bilal',\n",
       " 'Zohair',\n",
       " 'Hisham',\n",
       " 'Ahmed']"
      ]
     },
     "execution_count": 172,
     "metadata": {},
     "output_type": "execute_result"
    }
   ],
   "source": [
    "Std"
   ]
  },
  {
   "cell_type": "code",
   "execution_count": 173,
   "id": "fd670999-1660-49cd-9000-64f7b4363bca",
   "metadata": {},
   "outputs": [],
   "source": [
    "Std.remove(\"Hassaan\")"
   ]
  },
  {
   "cell_type": "code",
   "execution_count": 174,
   "id": "963ddd0e-df47-4489-8a80-c433fcb859ec",
   "metadata": {},
   "outputs": [
    {
     "data": {
      "text/plain": [
       "['Huzaifa',\n",
       " 'Hasseb',\n",
       " 'Hassaan',\n",
       " 'Saad',\n",
       " 'Ali',\n",
       " 'Bilal',\n",
       " 'Zohair',\n",
       " 'Hisham',\n",
       " 'Ahmed']"
      ]
     },
     "execution_count": 174,
     "metadata": {},
     "output_type": "execute_result"
    }
   ],
   "source": [
    "Std"
   ]
  },
  {
   "cell_type": "code",
   "execution_count": 175,
   "id": "2901a96d-640e-42d0-b867-96bc2226ba0c",
   "metadata": {},
   "outputs": [],
   "source": [
    "Std.reverse()"
   ]
  },
  {
   "cell_type": "code",
   "execution_count": 176,
   "id": "e71725e9-8046-4264-84a2-3d658aa80b14",
   "metadata": {},
   "outputs": [
    {
     "data": {
      "text/plain": [
       "['Ahmed',\n",
       " 'Hisham',\n",
       " 'Zohair',\n",
       " 'Bilal',\n",
       " 'Ali',\n",
       " 'Saad',\n",
       " 'Hassaan',\n",
       " 'Hasseb',\n",
       " 'Huzaifa']"
      ]
     },
     "execution_count": 176,
     "metadata": {},
     "output_type": "execute_result"
    }
   ],
   "source": [
    "Std"
   ]
  },
  {
   "cell_type": "code",
   "execution_count": 177,
   "id": "77e3edea-0e98-4361-9188-b4e22ca693f2",
   "metadata": {},
   "outputs": [],
   "source": [
    "Std_new= Std.copy()"
   ]
  },
  {
   "cell_type": "code",
   "execution_count": 178,
   "id": "96e7c166-7ea5-4428-b8dc-c5e11fea6a3e",
   "metadata": {},
   "outputs": [
    {
     "data": {
      "text/plain": [
       "(list, 2366740561088)"
      ]
     },
     "execution_count": 178,
     "metadata": {},
     "output_type": "execute_result"
    }
   ],
   "source": [
    "type(Std_new), id(Std_new)"
   ]
  },
  {
   "cell_type": "code",
   "execution_count": 179,
   "id": "3786403f-504a-4eb2-92c6-0f291f052404",
   "metadata": {},
   "outputs": [
    {
     "data": {
      "text/plain": [
       "(list, 2366751713408)"
      ]
     },
     "execution_count": 179,
     "metadata": {},
     "output_type": "execute_result"
    }
   ],
   "source": [
    "type(Std), id(Std)"
   ]
  },
  {
   "cell_type": "code",
   "execution_count": 180,
   "id": "947b4c3d-6102-4480-ae99-3441a37a47bc",
   "metadata": {},
   "outputs": [],
   "source": [
    "Std_new.append(\"Aftab\")"
   ]
  },
  {
   "cell_type": "code",
   "execution_count": 181,
   "id": "7654026d-7a36-45e9-b1d1-a4ddbf8d8be6",
   "metadata": {},
   "outputs": [
    {
     "data": {
      "text/plain": [
       "(['Ahmed',\n",
       "  'Hisham',\n",
       "  'Zohair',\n",
       "  'Bilal',\n",
       "  'Ali',\n",
       "  'Saad',\n",
       "  'Hassaan',\n",
       "  'Hasseb',\n",
       "  'Huzaifa',\n",
       "  'Aftab'],\n",
       " ['Ahmed',\n",
       "  'Hisham',\n",
       "  'Zohair',\n",
       "  'Bilal',\n",
       "  'Ali',\n",
       "  'Saad',\n",
       "  'Hassaan',\n",
       "  'Hasseb',\n",
       "  'Huzaifa'])"
      ]
     },
     "execution_count": 181,
     "metadata": {},
     "output_type": "execute_result"
    }
   ],
   "source": [
    "Std_new, Std"
   ]
  },
  {
   "cell_type": "markdown",
   "id": "6b3f2143-bbed-4592-9aed-ae8063495cbd",
   "metadata": {},
   "source": [
    "### Deep copy"
   ]
  },
  {
   "cell_type": "code",
   "execution_count": 182,
   "id": "7fc698f3-3ee2-41d5-bd6f-8c1204390c8e",
   "metadata": {},
   "outputs": [],
   "source": [
    "Std_new= Std"
   ]
  },
  {
   "cell_type": "code",
   "execution_count": 183,
   "id": "9a07045e-4a87-4edb-9b77-cc9abb88ac86",
   "metadata": {},
   "outputs": [],
   "source": [
    "Std.append(\"Saif\")"
   ]
  },
  {
   "cell_type": "code",
   "execution_count": 184,
   "id": "1b187f6b-f9f2-47c7-8d70-fea4e1a70d52",
   "metadata": {},
   "outputs": [
    {
     "data": {
      "text/plain": [
       "(['Ahmed',\n",
       "  'Hisham',\n",
       "  'Zohair',\n",
       "  'Bilal',\n",
       "  'Ali',\n",
       "  'Saad',\n",
       "  'Hassaan',\n",
       "  'Hasseb',\n",
       "  'Huzaifa',\n",
       "  'Saif'],\n",
       " ['Ahmed',\n",
       "  'Hisham',\n",
       "  'Zohair',\n",
       "  'Bilal',\n",
       "  'Ali',\n",
       "  'Saad',\n",
       "  'Hassaan',\n",
       "  'Hasseb',\n",
       "  'Huzaifa',\n",
       "  'Saif'])"
      ]
     },
     "execution_count": 184,
     "metadata": {},
     "output_type": "execute_result"
    }
   ],
   "source": [
    "Std_new, Std"
   ]
  },
  {
   "cell_type": "markdown",
   "id": "7df7aff8-a26f-4d7b-af18-b04e3b507909",
   "metadata": {},
   "source": [
    "## Slicing on list"
   ]
  },
  {
   "cell_type": "code",
   "execution_count": 185,
   "id": "3e43af14-1774-4689-9322-eee85b1cfe77",
   "metadata": {},
   "outputs": [
    {
     "data": {
      "text/plain": [
       "['Ahmed',\n",
       " 'Hisham',\n",
       " 'Zohair',\n",
       " 'Bilal',\n",
       " 'Ali',\n",
       " 'Saad',\n",
       " 'Hassaan',\n",
       " 'Hasseb',\n",
       " 'Huzaifa',\n",
       " 'Saif']"
      ]
     },
     "execution_count": 185,
     "metadata": {},
     "output_type": "execute_result"
    }
   ],
   "source": [
    "Std"
   ]
  },
  {
   "cell_type": "code",
   "execution_count": 186,
   "id": "521b10a8-d7d6-4a7e-b214-8fff217cf83e",
   "metadata": {},
   "outputs": [
    {
     "data": {
      "text/plain": [
       "['Zohair', 'Bilal', 'Ali', 'Saad']"
      ]
     },
     "execution_count": 186,
     "metadata": {},
     "output_type": "execute_result"
    }
   ],
   "source": [
    "Std[2:6]"
   ]
  },
  {
   "cell_type": "code",
   "execution_count": 187,
   "id": "90476246-fa0b-42eb-bea9-d4a9c871ae4b",
   "metadata": {},
   "outputs": [
    {
     "data": {
      "text/plain": [
       "['Saif',\n",
       " 'Huzaifa',\n",
       " 'Hasseb',\n",
       " 'Hassaan',\n",
       " 'Saad',\n",
       " 'Ali',\n",
       " 'Bilal',\n",
       " 'Zohair',\n",
       " 'Hisham',\n",
       " 'Ahmed']"
      ]
     },
     "execution_count": 187,
     "metadata": {},
     "output_type": "execute_result"
    }
   ],
   "source": [
    "Std[:: -1]"
   ]
  },
  {
   "cell_type": "markdown",
   "id": "27d9f5a4-aaeb-4f7b-8ff2-9f4a50d55136",
   "metadata": {},
   "source": [
    "## Tuples"
   ]
  },
  {
   "cell_type": "code",
   "execution_count": 188,
   "id": "319d083d-9e9c-4b3d-b12e-72961b8f6b98",
   "metadata": {},
   "outputs": [],
   "source": [
    "bio_data= [\"Hassaan\", 22, 44, 6, True]"
   ]
  },
  {
   "cell_type": "code",
   "execution_count": 189,
   "id": "d407b937-8d26-4d7a-b075-cbca0e298911",
   "metadata": {},
   "outputs": [],
   "source": [
    "bio_data.append(\"Hassaan\")"
   ]
  },
  {
   "cell_type": "code",
   "execution_count": 190,
   "id": "acc223c9-35e3-462e-b3d4-23f87fa8c382",
   "metadata": {},
   "outputs": [
    {
     "data": {
      "text/plain": [
       "['Hassaan', 22, 44, 6, True, 'Hassaan']"
      ]
     },
     "execution_count": 190,
     "metadata": {},
     "output_type": "execute_result"
    }
   ],
   "source": [
    "bio_data"
   ]
  },
  {
   "cell_type": "code",
   "execution_count": 191,
   "id": "9953045a-9ca0-4f29-b859-b7538e62eb76",
   "metadata": {},
   "outputs": [],
   "source": [
    "bio_data_t= tuple(bio_data)"
   ]
  },
  {
   "cell_type": "code",
   "execution_count": 192,
   "id": "9138c3d6-1ae6-4569-a832-642440b98424",
   "metadata": {},
   "outputs": [
    {
     "ename": "AttributeError",
     "evalue": "'tuple' object has no attribute 'append'",
     "output_type": "error",
     "traceback": [
      "\u001b[1;31m---------------------------------------------------------------------------\u001b[0m",
      "\u001b[1;31mAttributeError\u001b[0m                            Traceback (most recent call last)",
      "Cell \u001b[1;32mIn[192], line 1\u001b[0m\n\u001b[1;32m----> 1\u001b[0m bio_data_t\u001b[38;5;241m.\u001b[39mappend(\u001b[38;5;124m\"\u001b[39m\u001b[38;5;124mHassaan\u001b[39m\u001b[38;5;124m\"\u001b[39m)\n",
      "\u001b[1;31mAttributeError\u001b[0m: 'tuple' object has no attribute 'append'"
     ]
    }
   ],
   "source": [
    "bio_data_t.append(\"Hassaan\")"
   ]
  },
  {
   "cell_type": "code",
   "execution_count": 193,
   "id": "a3dcfe4e-22a9-465c-97ca-e727e5c7da8a",
   "metadata": {},
   "outputs": [],
   "source": [
    "bio_data.append(\"Hassaan\")"
   ]
  },
  {
   "cell_type": "code",
   "execution_count": 194,
   "id": "56191030-c37f-424a-9495-766c7a2544f0",
   "metadata": {},
   "outputs": [
    {
     "data": {
      "text/plain": [
       "(['Hassaan', 22, 44, 6, True, 'Hassaan', 'Hassaan'],\n",
       " ('Hassaan', 22, 44, 6, True, 'Hassaan'))"
      ]
     },
     "execution_count": 194,
     "metadata": {},
     "output_type": "execute_result"
    }
   ],
   "source": [
    "bio_data, bio_data_t"
   ]
  },
  {
   "cell_type": "code",
   "execution_count": 195,
   "id": "28ed44c2-5b05-46cf-ab31-24094627c5cc",
   "metadata": {},
   "outputs": [
    {
     "data": {
      "text/plain": [
       "2"
      ]
     },
     "execution_count": 195,
     "metadata": {},
     "output_type": "execute_result"
    }
   ],
   "source": [
    "bio_data_t.count(\"Hassaan\")"
   ]
  },
  {
   "cell_type": "markdown",
   "id": "567664b2-635e-44c4-8623-c80edf5d9078",
   "metadata": {},
   "source": [
    "## Set"
   ]
  },
  {
   "cell_type": "code",
   "execution_count": 196,
   "id": "29e3d53e-5fd2-4be6-a299-2eef9efb01ad",
   "metadata": {},
   "outputs": [],
   "source": [
    "nameList= [\"Hasaaan\",\"Hasaaan\",\"AiWITHHasaaan\"]"
   ]
  },
  {
   "cell_type": "code",
   "execution_count": 197,
   "id": "88cd5340-83e6-4b8a-85c6-fb655064897f",
   "metadata": {},
   "outputs": [],
   "source": [
    "name_set= set(nameList)"
   ]
  },
  {
   "cell_type": "code",
   "execution_count": 198,
   "id": "f7abf4c8-ba6d-4661-8f4e-e3bc3bb27f61",
   "metadata": {},
   "outputs": [
    {
     "data": {
      "text/plain": [
       "{'AiWITHHasaaan', 'Hasaaan'}"
      ]
     },
     "execution_count": 198,
     "metadata": {},
     "output_type": "execute_result"
    }
   ],
   "source": [
    "name_set"
   ]
  },
  {
   "cell_type": "code",
   "execution_count": 199,
   "id": "0a2151a8-04fe-492e-9f81-d1fc3cc44e0b",
   "metadata": {},
   "outputs": [],
   "source": [
    "set_A= {'a','b'}\n",
    "set_B= {'c','d'}\n",
    "Universal= {'a','b','c','d'}"
   ]
  },
  {
   "cell_type": "code",
   "execution_count": 200,
   "id": "65e305cb-049f-4dcf-bffa-1fc596c60e3f",
   "metadata": {},
   "outputs": [
    {
     "data": {
      "text/plain": [
       "{'a', 'b'}"
      ]
     },
     "execution_count": 200,
     "metadata": {},
     "output_type": "execute_result"
    }
   ],
   "source": [
    "Universal.intersection(set_A)"
   ]
  },
  {
   "cell_type": "code",
   "execution_count": 201,
   "id": "7797bef0-3c13-4b67-8954-e63a452cebe2",
   "metadata": {},
   "outputs": [
    {
     "data": {
      "text/plain": [
       "{'a', 'b', 'c', 'd'}"
      ]
     },
     "execution_count": 201,
     "metadata": {},
     "output_type": "execute_result"
    }
   ],
   "source": [
    "set_A.union(set_B)"
   ]
  },
  {
   "cell_type": "code",
   "execution_count": 202,
   "id": "4c86dd9e-5865-4ae9-876e-c32d42b529a7",
   "metadata": {},
   "outputs": [
    {
     "data": {
      "text/plain": [
       "True"
      ]
     },
     "execution_count": 202,
     "metadata": {},
     "output_type": "execute_result"
    }
   ],
   "source": [
    "set_A.issubset(Universal)"
   ]
  },
  {
   "cell_type": "code",
   "execution_count": 203,
   "id": "eef338d7-adaf-42c1-a1ff-987688e77afa",
   "metadata": {},
   "outputs": [
    {
     "data": {
      "text/plain": [
       "False"
      ]
     },
     "execution_count": 203,
     "metadata": {},
     "output_type": "execute_result"
    }
   ],
   "source": [
    "set_A.issubset(set_B)"
   ]
  },
  {
   "cell_type": "code",
   "execution_count": 204,
   "id": "958076d0-f87e-4f60-9406-f7e127f43196",
   "metadata": {},
   "outputs": [
    {
     "data": {
      "text/plain": [
       "True"
      ]
     },
     "execution_count": 204,
     "metadata": {},
     "output_type": "execute_result"
    }
   ],
   "source": [
    "Universal.issuperset(set_B)"
   ]
  },
  {
   "cell_type": "code",
   "execution_count": 205,
   "id": "35ab3086-aedc-4258-8faa-cb394551436e",
   "metadata": {},
   "outputs": [],
   "source": [
    "set_A.update(\"e\")"
   ]
  },
  {
   "cell_type": "code",
   "execution_count": 206,
   "id": "89fe5321-b908-4ea7-8fe9-708a9f1026c7",
   "metadata": {},
   "outputs": [
    {
     "data": {
      "text/plain": [
       "{'a', 'b', 'e'}"
      ]
     },
     "execution_count": 206,
     "metadata": {},
     "output_type": "execute_result"
    }
   ],
   "source": [
    "set_A"
   ]
  },
  {
   "cell_type": "code",
   "execution_count": 207,
   "id": "e3e8d353-68d2-4a71-87e5-5035af0219e2",
   "metadata": {},
   "outputs": [],
   "source": [
    "Universal.intersection_update(set_A)"
   ]
  },
  {
   "cell_type": "code",
   "execution_count": 208,
   "id": "e9c6aed1-f0a5-4b5c-8c7f-dc399747dfe2",
   "metadata": {},
   "outputs": [
    {
     "data": {
      "text/plain": [
       "{'a', 'b'}"
      ]
     },
     "execution_count": 208,
     "metadata": {},
     "output_type": "execute_result"
    }
   ],
   "source": [
    "Universal"
   ]
  },
  {
   "cell_type": "code",
   "execution_count": 209,
   "id": "f370eb77-b449-4523-8ad2-f1ca0f5917f4",
   "metadata": {},
   "outputs": [],
   "source": [
    "Universal.update(\"c\",\"d\",\"e\",[21])"
   ]
  },
  {
   "cell_type": "code",
   "execution_count": 210,
   "id": "f2324fac-0859-414b-b457-c766bc9cbf58",
   "metadata": {},
   "outputs": [
    {
     "data": {
      "text/plain": [
       "{21, 'a', 'b', 'c', 'd', 'e'}"
      ]
     },
     "execution_count": 210,
     "metadata": {},
     "output_type": "execute_result"
    }
   ],
   "source": [
    "Universal"
   ]
  },
  {
   "cell_type": "code",
   "execution_count": 211,
   "id": "c713cc33-2a7c-46f1-87d5-6ea5b31b9d25",
   "metadata": {},
   "outputs": [],
   "source": [
    "Universal.discard('1')"
   ]
  },
  {
   "cell_type": "code",
   "execution_count": 212,
   "id": "dbd93267-2efc-411f-ab52-f687556a4054",
   "metadata": {},
   "outputs": [
    {
     "data": {
      "text/plain": [
       "{21, 'a', 'b', 'c', 'd', 'e'}"
      ]
     },
     "execution_count": 212,
     "metadata": {},
     "output_type": "execute_result"
    }
   ],
   "source": [
    "Universal"
   ]
  },
  {
   "cell_type": "code",
   "execution_count": 213,
   "id": "901098dd-c131-41cb-af5f-d5649d5a1226",
   "metadata": {},
   "outputs": [
    {
     "data": {
      "text/plain": [
       "{21, 'a', 'b', 'e'}"
      ]
     },
     "execution_count": 213,
     "metadata": {},
     "output_type": "execute_result"
    }
   ],
   "source": [
    "Universal.symmetric_difference(set_B)"
   ]
  },
  {
   "cell_type": "markdown",
   "id": "5253463a-b8f7-4ccb-bfcc-e6a8544b54dd",
   "metadata": {},
   "source": [
    "### Task\n",
    "- Create a student tuple name and apply all methods we learn today\n",
    "- Create a student set of names and apply all methods that we learn"
   ]
  },
  {
   "cell_type": "code",
   "execution_count": null,
   "id": "4f6014a0-f465-44e7-8b0d-d5d1176b0dc0",
   "metadata": {},
   "outputs": [],
   "source": []
  }
 ],
 "metadata": {
  "kernelspec": {
   "display_name": "Python 3 (ipykernel)",
   "language": "python",
   "name": "python3"
  },
  "language_info": {
   "codemirror_mode": {
    "name": "ipython",
    "version": 3
   },
   "file_extension": ".py",
   "mimetype": "text/x-python",
   "name": "python",
   "nbconvert_exporter": "python",
   "pygments_lexer": "ipython3",
   "version": "3.13.7"
  }
 },
 "nbformat": 4,
 "nbformat_minor": 5
}
