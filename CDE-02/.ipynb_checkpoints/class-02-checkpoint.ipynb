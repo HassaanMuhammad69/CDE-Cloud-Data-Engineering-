{
 "cells": [
  {
   "cell_type": "code",
   "execution_count": 2,
   "id": "6ab600cf-69fc-46f7-a439-335709de0b82",
   "metadata": {},
   "outputs": [
    {
     "name": "stdout",
     "output_type": "stream",
     "text": [
      "hello world\n"
     ]
    }
   ],
   "source": [
    "print(\"hello world\") #this is a code cell"
   ]
  },
  {
   "cell_type": "raw",
   "id": "a6cb41d2-1739-4bc3-ace9-c2da06d9dabc",
   "metadata": {},
   "source": [
    "this is raw call and you can add simple plain text here"
   ]
  },
  {
   "cell_type": "markdown",
   "id": "e1f2193a-23e2-40b1-8ff7-2298b037d3ad",
   "metadata": {},
   "source": [
    "this is the markdown cell so we have to follow the markdown syntax"
   ]
  },
  {
   "cell_type": "markdown",
   "id": "593dec54-d165-478d-9ebd-346d778b63ab",
   "metadata": {},
   "source": [
    "#### Shortcuts for jupyter notebook"
   ]
  },
  {
   "cell_type": "markdown",
   "id": "9c9e27c8-ecc9-4e7c-b564-ce3a545c0340",
   "metadata": {},
   "source": [
    "- ESC + M\n",
    "\n",
    "- ESC + R\n",
    "\n",
    "- ESC + Y\n",
    "\n",
    "- ESC + A (to create cell above a cell)\n",
    "\n",
    "- ESC + B (to create ce;; below cell)\n",
    "\n",
    "- ESC + DD (to delete a cell)\n",
    "\n",
    "- Shift + enter (to run the cell and move to next cell) \n",
    "\n",
    "- Ctrl + enter (to run on the same cell)\n",
    "\n",
    "- Ctrl + shift+ H (to get all keyboard shortcuts)\n",
    "\n"
   ]
  },
  {
   "cell_type": "markdown",
   "id": "983edd41-8c84-41dc-b3a5-02f0eb76264b",
   "metadata": {},
   "source": [
    "## Operators"
   ]
  },
  {
   "cell_type": "code",
   "execution_count": 5,
   "id": "e9b13182-dea9-492f-8911-71012e441b7c",
   "metadata": {},
   "outputs": [
    {
     "data": {
      "text/plain": [
       "3"
      ]
     },
     "execution_count": 5,
     "metadata": {},
     "output_type": "execute_result"
    }
   ],
   "source": [
    "7//2"
   ]
  },
  {
   "cell_type": "code",
   "execution_count": 6,
   "id": "ec34ad7e-19b4-493c-8152-23d80bcfa6c9",
   "metadata": {},
   "outputs": [
    {
     "data": {
      "text/plain": [
       "3.5"
      ]
     },
     "execution_count": 6,
     "metadata": {},
     "output_type": "execute_result"
    }
   ],
   "source": [
    "7/2"
   ]
  },
  {
   "cell_type": "code",
   "execution_count": 11,
   "id": "7afd15c6-015b-404f-b5ef-e6721225c3fa",
   "metadata": {},
   "outputs": [
    {
     "data": {
      "text/plain": [
       "16"
      ]
     },
     "execution_count": 11,
     "metadata": {},
     "output_type": "execute_result"
    }
   ],
   "source": [
    "2**4"
   ]
  },
  {
   "cell_type": "code",
   "execution_count": 12,
   "id": "83130e2d-1a26-4dcc-8126-b26ac9b7e63f",
   "metadata": {},
   "outputs": [
    {
     "data": {
      "text/plain": [
       "8"
      ]
     },
     "execution_count": 12,
     "metadata": {},
     "output_type": "execute_result"
    }
   ],
   "source": [
    "2*4"
   ]
  },
  {
   "cell_type": "code",
   "execution_count": 13,
   "id": "b211c957-7d86-43dd-80a2-092ea59b82b5",
   "metadata": {},
   "outputs": [
    {
     "data": {
      "text/plain": [
       "4"
      ]
     },
     "execution_count": 13,
     "metadata": {},
     "output_type": "execute_result"
    }
   ],
   "source": [
    "6-2"
   ]
  },
  {
   "cell_type": "markdown",
   "id": "37c3a6c8-d0ac-4565-a580-a5d09849caff",
   "metadata": {},
   "source": [
    "## Expressions"
   ]
  },
  {
   "cell_type": "markdown",
   "id": "5cd4fe41-6aff-49c9-b577-9953c793f85e",
   "metadata": {},
   "source": [
    "PEMDAS (BODMAS) --> parantheis, exponential/power, multiplication, divison, addition, subtraction"
   ]
  },
  {
   "cell_type": "code",
   "execution_count": 14,
   "id": "1d7fe43b-cd81-4d14-af6b-450fab51c887",
   "metadata": {},
   "outputs": [
    {
     "data": {
      "text/plain": [
       "-2.8"
      ]
     },
     "execution_count": 14,
     "metadata": {},
     "output_type": "execute_result"
    }
   ],
   "source": [
    "(2-3)-(4-3)-4/5"
   ]
  },
  {
   "cell_type": "code",
   "execution_count": 15,
   "id": "de6465a6-6bd9-458c-b21d-22e927606adc",
   "metadata": {},
   "outputs": [
    {
     "data": {
      "text/plain": [
       "64.8"
      ]
     },
     "execution_count": 15,
     "metadata": {},
     "output_type": "execute_result"
    }
   ],
   "source": [
    "(((4+5)**2)*4)/5*(3-2)"
   ]
  },
  {
   "cell_type": "markdown",
   "id": "f7c1c8f2-12bc-486c-8fa3-5e07ef616250",
   "metadata": {},
   "source": [
    "## Advance operator"
   ]
  },
  {
   "cell_type": "markdown",
   "id": "3d56c93a-3ecf-43ae-8a12-9887203c0f71",
   "metadata": {},
   "source": [
    "- +=\n",
    "- -=\n",
    "- *=\n",
    "- /="
   ]
  },
  {
   "cell_type": "code",
   "execution_count": null,
   "id": "cdeceecb-9c60-495b-b951-924b2318ea17",
   "metadata": {},
   "outputs": [],
   "source": []
  }
 ],
 "metadata": {
  "kernelspec": {
   "display_name": "Python 3 (ipykernel)",
   "language": "python",
   "name": "python3"
  },
  "language_info": {
   "codemirror_mode": {
    "name": "ipython",
    "version": 3
   },
   "file_extension": ".py",
   "mimetype": "text/x-python",
   "name": "python",
   "nbconvert_exporter": "python",
   "pygments_lexer": "ipython3",
   "version": "3.13.5"
  }
 },
 "nbformat": 4,
 "nbformat_minor": 5
}
