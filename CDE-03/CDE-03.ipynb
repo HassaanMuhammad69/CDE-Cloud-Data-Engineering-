{
 "cells": [
  {
   "cell_type": "markdown",
   "id": "4dd159c5-e779-44ec-9acd-2557c83e67d2",
   "metadata": {},
   "source": [
    "## Concatenation:"
   ]
  },
  {
   "cell_type": "markdown",
   "id": "48c107db-2df5-46fa-98ea-0bbc66ede7bf",
   "metadata": {},
   "source": [
    "- Method 1 (using +operator)\n",
    "- Method 2 ( using f-string)\n",
    "- Method 3 (using .format)"
   ]
  },
  {
   "cell_type": "code",
   "execution_count": 3,
   "id": "219d67b4-91fc-4045-861f-56b9f948e6c6",
   "metadata": {},
   "outputs": [],
   "source": [
    "str1= \"sunlo\"\n",
    "str2= \"dehaan sa\""
   ]
  },
  {
   "cell_type": "code",
   "execution_count": 4,
   "id": "22bdf609-a7ce-4cb3-989d-1269dbd58963",
   "metadata": {},
   "outputs": [
    {
     "name": "stdout",
     "output_type": "stream",
     "text": [
      "acha meri baat sunlo dehaan sa\n"
     ]
    }
   ],
   "source": [
    "print(f\"acha meri baat {str1} {str2}\") #fstring"
   ]
  },
  {
   "cell_type": "code",
   "execution_count": 9,
   "id": "4fbc07c8-9c9d-44cf-a591-436aa6e3b666",
   "metadata": {},
   "outputs": [
    {
     "data": {
      "text/plain": [
       "'acha meri baat sunlo dehaan sa'"
      ]
     },
     "execution_count": 9,
     "metadata": {},
     "output_type": "execute_result"
    }
   ],
   "source": [
    "\"acha meri baat {0} {1}\".format(str1, str2) #format method"
   ]
  },
  {
   "cell_type": "code",
   "execution_count": 13,
   "id": "fe75c7d2-5776-46a7-9e69-2e9a8d61d54d",
   "metadata": {},
   "outputs": [
    {
     "name": "stdout",
     "output_type": "stream",
     "text": [
      "sunlo dehaan sa\n"
     ]
    }
   ],
   "source": [
    "print(str1 + ' '+ str2) #operator method"
   ]
  },
  {
   "cell_type": "markdown",
   "id": "47edda18-9117-4601-8d94-833fd0ffecbf",
   "metadata": {},
   "source": [
    "#### Create a string using all foramting method that print your first name and last name with some extra sentence that descrive you"
   ]
  },
  {
   "cell_type": "code",
   "execution_count": 17,
   "id": "680ab13c-7119-461a-ace6-f972fd9a8188",
   "metadata": {},
   "outputs": [],
   "source": [
    "Intro=\"My name is\"\n",
    "firstName= \"Hassaan\"\n",
    "lastName= \"Muhammad\"\n",
    "aboutMe= \"I am 22 year old and in my last year of graduation, my major is in computer science\" "
   ]
  },
  {
   "cell_type": "code",
   "execution_count": 19,
   "id": "d0c8d724-e4f8-4aa6-897e-f76b576dcea3",
   "metadata": {},
   "outputs": [
    {
     "data": {
      "text/plain": [
       "'My name is  Hassaan Muhammad I am 22 year old and in my last year of graduation, my major is in computer science'"
      ]
     },
     "execution_count": 19,
     "metadata": {},
     "output_type": "execute_result"
    }
   ],
   "source": [
    "Intro+ ' ' + firstName + ' ' + lastName + ' ' + aboutMe "
   ]
  },
  {
   "cell_type": "code",
   "execution_count": 20,
   "id": "610bbd0d-82df-4331-bd59-72308cd88c0d",
   "metadata": {},
   "outputs": [
    {
     "data": {
      "text/plain": [
       "'My name is  Hassaan Muhammad I am 22 year old and in my last year of graduation, my major is in computer science'"
      ]
     },
     "execution_count": 20,
     "metadata": {},
     "output_type": "execute_result"
    }
   ],
   "source": [
    "f\"{Intro} {firstName} {lastName} {aboutMe}\""
   ]
  },
  {
   "cell_type": "code",
   "execution_count": 23,
   "id": "73c7b7c4-1965-4cf6-8b5f-80fa45cc1116",
   "metadata": {},
   "outputs": [
    {
     "data": {
      "text/plain": [
       "'My name is  Hassaan Muhammad I am 22 year old and in my last year of graduation, my major is in computer science'"
      ]
     },
     "execution_count": 23,
     "metadata": {},
     "output_type": "execute_result"
    }
   ],
   "source": [
    "\"{0} {1} {2} {3}\".format(Intro, firstName, lastName, aboutMe)"
   ]
  },
  {
   "cell_type": "markdown",
   "id": "80b9a72c-71c2-4a84-bc1f-95a9d8a6fd9f",
   "metadata": {},
   "source": [
    "## User Input:"
   ]
  },
  {
   "cell_type": "code",
   "execution_count": 24,
   "id": "b186ce95-2a6b-4253-a248-9c884dfb8d8f",
   "metadata": {},
   "outputs": [
    {
     "name": "stdin",
     "output_type": "stream",
     "text": [
      "Enter your first name:  Hassaan\n"
     ]
    }
   ],
   "source": [
    "f_name= input(\"Enter your first name: \")"
   ]
  },
  {
   "cell_type": "code",
   "execution_count": 27,
   "id": "b32c0030-d1c5-4206-99ad-55fec535f0a9",
   "metadata": {},
   "outputs": [
    {
     "name": "stdin",
     "output_type": "stream",
     "text": [
      "Enter your age 22\n"
     ]
    }
   ],
   "source": [
    "age= int(input(\"Enter your age\")) #by defaukt  input take string as datatype"
   ]
  },
  {
   "cell_type": "code",
   "execution_count": 28,
   "id": "f157aae4-86a8-4980-8011-dd894247d471",
   "metadata": {},
   "outputs": [
    {
     "data": {
      "text/plain": [
       "'Hassaan 22'"
      ]
     },
     "execution_count": 28,
     "metadata": {},
     "output_type": "execute_result"
    }
   ],
   "source": [
    "f\"{f_name} {age}\""
   ]
  },
  {
   "cell_type": "code",
   "execution_count": 34,
   "id": "c6feecbb-0ea6-4106-9370-f69ed5f9b5de",
   "metadata": {},
   "outputs": [
    {
     "data": {
      "text/plain": [
       "'Hassaan 22'"
      ]
     },
     "execution_count": 34,
     "metadata": {},
     "output_type": "execute_result"
    }
   ],
   "source": [
    "\"{0} {1}\".format(f_name, age)"
   ]
  },
  {
   "cell_type": "markdown",
   "id": "9e34fec0-6f2c-4884-bd68-bf0f23507684",
   "metadata": {},
   "source": [
    " ## Condition Statement:"
   ]
  },
  {
   "cell_type": "code",
   "execution_count": 47,
   "id": "ca0e8882-750e-4a53-a19c-3d7189570a78",
   "metadata": {},
   "outputs": [
    {
     "name": "stdout",
     "output_type": "stream",
     "text": [
      "Chutttii\n"
     ]
    }
   ],
   "source": [
    "eid= True\n",
    "if eid: \n",
    "    print('Chutttii')\n",
    "else:\n",
    "    print(\"No chuti\")"
   ]
  },
  {
   "cell_type": "code",
   "execution_count": 46,
   "id": "dc5e1c5f-b40f-4b3e-9b08-160e0b56066c",
   "metadata": {},
   "outputs": [
    {
     "name": "stdout",
     "output_type": "stream",
     "text": [
      "No certificate\n"
     ]
    }
   ],
   "source": [
    "\n",
    "Pass= False\n",
    "if Pass:\n",
    "    print('Certificate')\n",
    "else:\n",
    "    print('No certificate')"
   ]
  },
  {
   "cell_type": "code",
   "execution_count": 54,
   "id": "469aa5b6-d56c-4d7a-9fb3-2ecf3b04a053",
   "metadata": {},
   "outputs": [
    {
     "name": "stdin",
     "output_type": "stream",
     "text": [
      "Enter your marks 65\n"
     ]
    },
    {
     "name": "stdout",
     "output_type": "stream",
     "text": [
      "Fail\n"
     ]
    }
   ],
   "source": [
    "marks= int(input(\"Enter your marks\"))\n",
    "if marks >= 90:\n",
    "    print(\"A+ grade\")\n",
    "elif marks >= 80:\n",
    "    print(\"A grade\")\n",
    "elif marks >= 70:\n",
    "    print(\"B grade\")\n",
    "else:\n",
    "    print(\"Fail\")"
   ]
  },
  {
   "cell_type": "markdown",
   "id": "8e2e5380-55a6-4083-a130-bc6eac220cf9",
   "metadata": {},
   "source": [
    "## Nested if Else:"
   ]
  },
  {
   "cell_type": "code",
   "execution_count": 56,
   "id": "22e2da59-6621-4037-86d8-f7ae60e61711",
   "metadata": {},
   "outputs": [
    {
     "name": "stdout",
     "output_type": "stream",
     "text": [
      "Shop is open, check for rice\n"
     ]
    },
    {
     "name": "stdin",
     "output_type": "stream",
     "text": [
      "Is rice avaliable True\n"
     ]
    },
    {
     "name": "stdout",
     "output_type": "stream",
     "text": [
      "Buy 1 kg\n"
     ]
    }
   ],
   "source": [
    "shopOpen= True\n",
    "rice= False\n",
    "\n",
    "if shopOpen:\n",
    "    print(\"Shop is open, check for rice\")\n",
    "    rice= input(\"Is rice avaliable\")\n",
    "    if rice == \"True\": \n",
    "        print(\"Buy 1 kg\")\n",
    "    else:\n",
    "        print(\"Go to another shop for rice\")\n",
    "else:\n",
    "    print(\"Shop is closed\")"
   ]
  },
  {
   "cell_type": "code",
   "execution_count": 60,
   "id": "19fd539c-3969-4764-a6c0-6b182bfbbc2f",
   "metadata": {},
   "outputs": [
    {
     "name": "stdin",
     "output_type": "stream",
     "text": [
      "What is your age 14\n"
     ]
    },
    {
     "name": "stdout",
     "output_type": "stream",
     "text": [
      "You are not eligible for voting\n"
     ]
    }
   ],
   "source": [
    "age= int(input(\"What is your age\"))\n",
    "\n",
    "if age>= 18: \n",
    "    print('You are eligible for voting')\n",
    "else:\n",
    "    print('You are not eligible for voting')"
   ]
  },
  {
   "cell_type": "code",
   "execution_count": 70,
   "id": "1bbfa49e-69bf-41a5-ae94-36850c7bda83",
   "metadata": {},
   "outputs": [
    {
     "name": "stdin",
     "output_type": "stream",
     "text": [
      "write a number 19\n"
     ]
    },
    {
     "name": "stdout",
     "output_type": "stream",
     "text": [
      "Number is odd\n"
     ]
    }
   ],
   "source": [
    " number= int(input(\"write a number\"))\n",
    "\n",
    "if number % 2 ==0:\n",
    "    print(\"Number is even\")\n",
    "else:\n",
    "    print(\"Number is odd\")"
   ]
  },
  {
   "cell_type": "code",
   "execution_count": 76,
   "id": "f8a7b5de-de37-43b4-b75b-481603fb95bb",
   "metadata": {},
   "outputs": [
    {
     "name": "stdin",
     "output_type": "stream",
     "text": [
      "write a number 12\n"
     ]
    },
    {
     "name": "stdout",
     "output_type": "stream",
     "text": [
      "Bye\n"
     ]
    }
   ],
   "source": [
    "num= int(input(\"write a number\"))\n",
    "\n",
    "if num % 5==0:\n",
    "   print(\"Hello\")\n",
    "else:\n",
    "    print(\"Bye\")"
   ]
  },
  {
   "cell_type": "code",
   "execution_count": 112,
   "id": "3ae4bdb4-b06c-49d8-ac2d-6a5a838e6155",
   "metadata": {},
   "outputs": [
    {
     "name": "stdin",
     "output_type": "stream",
     "text": [
      "Enter your marks 56\n"
     ]
    },
    {
     "name": "stdout",
     "output_type": "stream",
     "text": [
      "C\n"
     ]
    }
   ],
   "source": [
    "marks= int(input(\"Enter your marks\"))\n",
    "\n",
    "if marks >= 80 and marks <= 100:\n",
    "    print(\"A\")  \n",
    "elif marks < 80 and marks > 60:\n",
    "    print(\"B\")\n",
    "elif marks < 60 and marks > 50:\n",
    "    print(\"C\")\n",
    "elif marks < 50 and marks > 40:\n",
    "    print(\"D\")\n",
    "elif marks < 40 and marks > 1:\n",
    "    print(\"Fail\")\n",
    "elif marks > 100:  \n",
    "    print(\"out of range\")\n",
    "elif marks < 0:  \n",
    "    print(\"Invalid\")"
   ]
  },
  {
   "cell_type": "markdown",
   "id": "503153be-f97e-42f0-b5a9-9162ca8a82d3",
   "metadata": {},
   "source": [
    "## Method of any type"
   ]
  },
  {
   "cell_type": "code",
   "execution_count": 115,
   "id": "92256ebc-d0c5-4833-951b-086e1ad52888",
   "metadata": {},
   "outputs": [
    {
     "data": {
      "text/plain": [
       "3"
      ]
     },
     "execution_count": 115,
     "metadata": {},
     "output_type": "execute_result"
    }
   ],
   "source": [
    "\"hassaan\".count(\"a\")"
   ]
  },
  {
   "cell_type": "code",
   "execution_count": 118,
   "id": "18b5d45e-4d3c-4f19-9713-fb805893764a",
   "metadata": {},
   "outputs": [
    {
     "data": {
      "text/plain": [
       "'Hass'"
      ]
     },
     "execution_count": 118,
     "metadata": {},
     "output_type": "execute_result"
    }
   ],
   "source": [
    "str= \"Hassaan\" #slicing on string\n",
    "\n",
    "\n",
    "str[0:4] #slicing always happen from first to before the last digit"
   ]
  },
  {
   "cell_type": "code",
   "execution_count": 134,
   "id": "12ade985-d6ab-43ec-8a6b-ee564627081c",
   "metadata": {},
   "outputs": [
    {
     "data": {
      "text/plain": [
       "'batch 3 class'"
      ]
     },
     "execution_count": 134,
     "metadata": {},
     "output_type": "execute_result"
    }
   ],
   "source": [
    "str2=\"This is saylani batch 3 class\"\n",
    "\n",
    "str2[16:29]  #+ve slicing"
   ]
  },
  {
   "cell_type": "markdown",
   "id": "041a3f23-c1f2-41d9-a63c-d40252b072ce",
   "metadata": {},
   "source": [
    "## Method of string"
   ]
  },
  {
   "cell_type": "code",
   "execution_count": 135,
   "id": "2590d9a6-5d07-4c13-8dec-5fb6aec721ec",
   "metadata": {},
   "outputs": [
    {
     "data": {
      "text/plain": [
       "'HASSAAN'"
      ]
     },
     "execution_count": 135,
     "metadata": {},
     "output_type": "execute_result"
    }
   ],
   "source": [
    "\"Hassaan\".upper()"
   ]
  },
  {
   "cell_type": "code",
   "execution_count": 136,
   "id": "f52bc397-ddc2-4f7c-9624-4fe03ff611bd",
   "metadata": {},
   "outputs": [
    {
     "data": {
      "text/plain": [
       "'hassaan'"
      ]
     },
     "execution_count": 136,
     "metadata": {},
     "output_type": "execute_result"
    }
   ],
   "source": [
    "\"HASSAAN\".lower()"
   ]
  },
  {
   "cell_type": "code",
   "execution_count": 140,
   "id": "f6768b86-1b03-4679-9326-21b31216015b",
   "metadata": {},
   "outputs": [
    {
     "data": {
      "text/plain": [
       "'Hassaan'"
      ]
     },
     "execution_count": 140,
     "metadata": {},
     "output_type": "execute_result"
    }
   ],
   "source": [
    "\"hassaan\".title()"
   ]
  },
  {
   "cell_type": "code",
   "execution_count": 142,
   "id": "2aacdf02-a0af-4e0e-b383-2239bb852aea",
   "metadata": {},
   "outputs": [
    {
     "data": {
      "text/plain": [
       "True"
      ]
     },
     "execution_count": 142,
     "metadata": {},
     "output_type": "execute_result"
    }
   ],
   "source": [
    "\"hassaan\".islower()"
   ]
  },
  {
   "cell_type": "code",
   "execution_count": 146,
   "id": "86f1fa23-0900-468c-88ce-4dcac4c60ab1",
   "metadata": {},
   "outputs": [
    {
     "data": {
      "text/plain": [
       "6"
      ]
     },
     "execution_count": 146,
     "metadata": {},
     "output_type": "execute_result"
    }
   ],
   "source": [
    "\"Hassaan\".find(\"n\")"
   ]
  },
  {
   "cell_type": "code",
   "execution_count": 147,
   "id": "bb941409-7782-4330-8b11-a3a2d16fa663",
   "metadata": {},
   "outputs": [
    {
     "data": {
      "text/plain": [
       "'saan'"
      ]
     },
     "execution_count": 147,
     "metadata": {},
     "output_type": "execute_result"
    }
   ],
   "source": [
    "\"Hassaan\".removeprefix(\"Has\")"
   ]
  }
 ],
 "metadata": {
  "kernelspec": {
   "display_name": "Python 3 (ipykernel)",
   "language": "python",
   "name": "python3"
  },
  "language_info": {
   "codemirror_mode": {
    "name": "ipython",
    "version": 3
   },
   "file_extension": ".py",
   "mimetype": "text/x-python",
   "name": "python",
   "nbconvert_exporter": "python",
   "pygments_lexer": "ipython3",
   "version": "3.13.5"
  }
 },
 "nbformat": 4,
 "nbformat_minor": 5
}
