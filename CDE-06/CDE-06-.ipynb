{
 "cells": [
  {
   "cell_type": "markdown",
   "id": "8757332c-a4ed-4225-8a81-1e53a34c5ee8",
   "metadata": {},
   "source": [
    "### List Dictonaries"
   ]
  },
  {
   "cell_type": "code",
   "execution_count": null,
   "id": "0bd0d1bd-bdac-4a37-a903-67c4395ca812",
   "metadata": {},
   "outputs": [],
   "source": []
  },
  {
   "cell_type": "markdown",
   "id": "2dd2a96b-883c-4b8a-ab7e-90db16ac8926",
   "metadata": {},
   "source": [
    "### Functions"
   ]
  },
  {
   "cell_type": "code",
   "execution_count": 1,
   "id": "0c16bdcf-88e8-457e-b3c7-1db0200e28f9",
   "metadata": {},
   "outputs": [],
   "source": [
    "def addition():\n",
    "    num1= int(input(\"Enter input 1\"))\n",
    "    num2= int(input(\"Enter input 2\"))\n",
    "\n",
    "    print(num1 + num2)\n",
    "    "
   ]
  },
  {
   "cell_type": "code",
   "execution_count": 2,
   "id": "63e58a61-0c5a-4e76-9e11-497fe38a7e1d",
   "metadata": {},
   "outputs": [
    {
     "name": "stdin",
     "output_type": "stream",
     "text": [
      "Enter input 1 5\n",
      "Enter input 2 5\n"
     ]
    },
    {
     "name": "stdout",
     "output_type": "stream",
     "text": [
      "10\n"
     ]
    }
   ],
   "source": [
    "addition()"
   ]
  },
  {
   "cell_type": "code",
   "execution_count": 6,
   "id": "8b4eb55f-fc41-4ea5-b5db-6594302acb0f",
   "metadata": {},
   "outputs": [],
   "source": [
    "def task():\n",
    "    num1= int(input(\"Enter input 1\"))\n",
    "    num2= int(input(\"Enter input 2\"))\n",
    "    ope= (input(\"Enter an operator\"))\n",
    "    \n",
    "    if(ope == \"+\" ): print(num1 + num2)\n",
    "    elif(ope == \"-\" ): print(num1 - num2)\n",
    "    elif(ope == \"*\" ): print(num1 * num2)\n",
    "    elif(ope == \"/\" ): print(num1 / num2)\n",
    "    "
   ]
  },
  {
   "cell_type": "code",
   "execution_count": 8,
   "id": "8cd768bb-042a-4d19-8c26-656848a20aee",
   "metadata": {},
   "outputs": [
    {
     "name": "stdin",
     "output_type": "stream",
     "text": [
      "Enter input 1 20\n",
      "Enter input 2 2\n",
      "Enter an operator /\n"
     ]
    },
    {
     "name": "stdout",
     "output_type": "stream",
     "text": [
      "10.0\n"
     ]
    }
   ],
   "source": [
    "task()"
   ]
  },
  {
   "cell_type": "markdown",
   "id": "456565c1-4023-4e50-a10b-5292a5bd0677",
   "metadata": {},
   "source": [
    "### Task \n",
    "- Create a function to register a user with his name, email and password (Save name, email, password in a list)\n",
    "- Create another function to login a user with his email and password you saved as the registration time, if the credential match the data you saved print his name and a login message if not print a message that you are not a registered user please register and run the register function"
   ]
  },
  {
   "cell_type": "code",
   "execution_count": 28,
   "id": "9c4613aa-88e0-47d3-950a-965f64c1a121",
   "metadata": {},
   "outputs": [
    {
     "name": "stdout",
     "output_type": "stream",
     "text": [
      "['Hassaan', 'has@gamil.com', '55422']\n"
     ]
    }
   ],
   "source": [
    "lst= []\n",
    "def reg(name,email,password):\n",
    "    lst.append(name)\n",
    "    lst.append(email)\n",
    "    lst.append(password)\n",
    "    print(lst)\n",
    "reg(\"Hassaan\",\"has@gamil.com\",\"55422\")"
   ]
  },
  {
   "cell_type": "code",
   "execution_count": 37,
   "id": "a60c1817-69d1-4256-bef7-e34bd07e52f8",
   "metadata": {},
   "outputs": [
    {
     "name": "stdout",
     "output_type": "stream",
     "text": [
      "Welcome Hassaan\n"
     ]
    }
   ],
   "source": [
    "def login(email, password):\n",
    "    if(lst[1]== email and lst[2]== password): print(\"Welcome\", lst[0])\n",
    "    else: \n",
    "        print(\"Register first\")\n",
    "login('has@gamil.com', '55422')"
   ]
  },
  {
   "cell_type": "code",
   "execution_count": null,
   "id": "65595d0e-1120-4222-a572-1c676c5f460f",
   "metadata": {},
   "outputs": [],
   "source": [
    " "
   ]
  }
 ],
 "metadata": {
  "kernelspec": {
   "display_name": "Python 3 (ipykernel)",
   "language": "python",
   "name": "python3"
  },
  "language_info": {
   "codemirror_mode": {
    "name": "ipython",
    "version": 3
   },
   "file_extension": ".py",
   "mimetype": "text/x-python",
   "name": "python",
   "nbconvert_exporter": "python",
   "pygments_lexer": "ipython3",
   "version": "3.13.7"
  }
 },
 "nbformat": 4,
 "nbformat_minor": 5
}
