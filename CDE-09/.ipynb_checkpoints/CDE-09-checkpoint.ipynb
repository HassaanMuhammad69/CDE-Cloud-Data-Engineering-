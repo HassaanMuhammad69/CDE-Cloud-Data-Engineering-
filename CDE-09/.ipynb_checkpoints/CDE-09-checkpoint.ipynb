{
 "cells": [
  {
   "cell_type": "code",
   "execution_count": 1,
   "id": "b5c2ce9d-ead8-4fb8-a64d-91603f469a62",
   "metadata": {},
   "outputs": [],
   "source": [
    " def add(num1,num2):\n",
    "     return num1+num2"
   ]
  },
  {
   "cell_type": "markdown",
   "id": "d801f26b-3052-4298-9261-b61983b09fda",
   "metadata": {},
   "source": [
    "## Lambda function \n",
    "- without name\n",
    "- one time function\n",
    "- never been called before or \n",
    "- No return keyword"
   ]
  },
  {
   "cell_type": "code",
   "execution_count": 2,
   "id": "ff8af73b-7e1c-4943-90e3-c440ae0cbf3f",
   "metadata": {},
   "outputs": [
    {
     "data": {
      "text/plain": [
       "17"
      ]
     },
     "execution_count": 2,
     "metadata": {},
     "output_type": "execute_result"
    }
   ],
   "source": [
    "(lambda x,y: x+y)(8,9) "
   ]
  },
  {
   "cell_type": "code",
   "execution_count": 7,
   "id": "c70d6a1b-bbd5-4bb3-b69d-970cb22767b8",
   "metadata": {},
   "outputs": [],
   "source": [
    "f= (lambda x,y: x+y) "
   ]
  },
  {
   "cell_type": "code",
   "execution_count": 8,
   "id": "565b472d-7505-4e42-9e87-f3e0c070adc6",
   "metadata": {},
   "outputs": [
    {
     "data": {
      "text/plain": [
       "14"
      ]
     },
     "execution_count": 8,
     "metadata": {},
     "output_type": "execute_result"
    }
   ],
   "source": [
    "f(5,9)"
   ]
  },
  {
   "cell_type": "code",
   "execution_count": 10,
   "id": "9795ea0e-dc3e-4e94-941a-789e036ca3f8",
   "metadata": {},
   "outputs": [
    {
     "data": {
      "text/plain": [
       "24"
      ]
     },
     "execution_count": 10,
     "metadata": {},
     "output_type": "execute_result"
    }
   ],
   "source": [
    "def  f(n):\n",
    "    if n==1:\n",
    "        return 1\n",
    "    s= n*f(n-1)\n",
    "    return s\n",
    "f(4)"
   ]
  },
  {
   "cell_type": "code",
   "execution_count": 11,
   "id": "a91c4060-26e2-498b-b28b-c1a0b9956480",
   "metadata": {},
   "outputs": [],
   "source": [
    "f = lambda n: 1 if n==1 else n*f(n-1)"
   ]
  },
  {
   "cell_type": "code",
   "execution_count": 12,
   "id": "67b73501-469e-471b-980c-87a10ced42f0",
   "metadata": {},
   "outputs": [
    {
     "data": {
      "text/plain": [
       "24"
      ]
     },
     "execution_count": 12,
     "metadata": {},
     "output_type": "execute_result"
    }
   ],
   "source": [
    "f(4)"
   ]
  },
  {
   "cell_type": "markdown",
   "id": "a3685fc4-54ec-4d91-9689-5923760fe8ac",
   "metadata": {},
   "source": [
    "### CLasses"
   ]
  },
  {
   "cell_type": "code",
   "execution_count": null,
   "id": "89737b18-a41f-49b6-bcbd-e915ac72bbaf",
   "metadata": {},
   "outputs": [],
   "source": [
    "class saylani():\n",
    "\n",
    "    def_init():\n",
    "\n",
    "    def course():"
   ]
  }
 ],
 "metadata": {
  "kernelspec": {
   "display_name": "Python 3 (ipykernel)",
   "language": "python",
   "name": "python3"
  },
  "language_info": {
   "codemirror_mode": {
    "name": "ipython",
    "version": 3
   },
   "file_extension": ".py",
   "mimetype": "text/x-python",
   "name": "python",
   "nbconvert_exporter": "python",
   "pygments_lexer": "ipython3",
   "version": "3.13.7"
  }
 },
 "nbformat": 4,
 "nbformat_minor": 5
}
