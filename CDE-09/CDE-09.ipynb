{
 "cells": [
  {
   "cell_type": "code",
   "execution_count": null,
   "id": "b5c2ce9d-ead8-4fb8-a64d-91603f469a62",
   "metadata": {},
   "outputs": [],
   "source": [
    " def add(num1,num2):\n",
    "     return num1+num2"
   ]
  },
  {
   "cell_type": "markdown",
   "id": "d801f26b-3052-4298-9261-b61983b09fda",
   "metadata": {},
   "source": [
    "## Lambda function \n",
    "- without name\n",
    "- one time function\n",
    "- never been called before or \n",
    "- No return keyword"
   ]
  },
  {
   "cell_type": "code",
   "execution_count": null,
   "id": "ff8af73b-7e1c-4943-90e3-c440ae0cbf3f",
   "metadata": {},
   "outputs": [],
   "source": [
    "(lambda x,y: x+y)(8,9) "
   ]
  },
  {
   "cell_type": "code",
   "execution_count": null,
   "id": "c70d6a1b-bbd5-4bb3-b69d-970cb22767b8",
   "metadata": {},
   "outputs": [],
   "source": [
    "f= (lambda x,y: x+y) "
   ]
  },
  {
   "cell_type": "code",
   "execution_count": null,
   "id": "565b472d-7505-4e42-9e87-f3e0c070adc6",
   "metadata": {},
   "outputs": [],
   "source": [
    "f(5,9)"
   ]
  },
  {
   "cell_type": "code",
   "execution_count": null,
   "id": "9795ea0e-dc3e-4e94-941a-789e036ca3f8",
   "metadata": {},
   "outputs": [],
   "source": [
    "def  f(n):\n",
    "    if n==1:\n",
    "        return 1\n",
    "    s= n*f(n-1)\n",
    "    return s\n",
    "f(4)"
   ]
  },
  {
   "cell_type": "code",
   "execution_count": null,
   "id": "a91c4060-26e2-498b-b28b-c1a0b9956480",
   "metadata": {},
   "outputs": [],
   "source": [
    "f = lambda n: 1 if n==1 else n*f(n-1)"
   ]
  },
  {
   "cell_type": "code",
   "execution_count": null,
   "id": "67b73501-469e-471b-980c-87a10ced42f0",
   "metadata": {},
   "outputs": [],
   "source": [
    "f(4)"
   ]
  },
  {
   "cell_type": "markdown",
   "id": "a3685fc4-54ec-4d91-9689-5923760fe8ac",
   "metadata": {},
   "source": [
    "### CLasses"
   ]
  },
  {
   "cell_type": "code",
   "execution_count": null,
   "id": "0863e613-3e74-4ec4-ba2b-7399feb1c8de",
   "metadata": {},
   "outputs": [],
   "source": []
  }
 ],
 "metadata": {
  "kernelspec": {
   "display_name": "Python 3 (ipykernel)",
   "language": "python",
   "name": "python3"
  },
  "language_info": {
   "codemirror_mode": {
    "name": "ipython",
    "version": 3
   },
   "file_extension": ".py",
   "mimetype": "text/x-python",
   "name": "python",
   "nbconvert_exporter": "python",
   "pygments_lexer": "ipython3",
   "version": "3.13.7"
  }
 },
 "nbformat": 4,
 "nbformat_minor": 5
}
