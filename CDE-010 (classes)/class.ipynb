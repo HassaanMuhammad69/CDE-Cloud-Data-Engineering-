{
 "cells": [
  {
   "cell_type": "markdown",
   "id": "d0d307b3-771e-425c-9e1a-da77dc1e2c66",
   "metadata": {},
   "source": [
    "### CLass"
   ]
  },
  {
   "cell_type": "code",
   "execution_count": 12,
   "id": "64d9e7ee-e65d-4e05-9368-49af52f175fd",
   "metadata": {},
   "outputs": [],
   "source": [
    "class saylani():\n",
    "    def __init__(self, campus, staff, courses):\n",
    "        self.campus= campus\n",
    "        self.staff= staff\n",
    "        self.courses= courses\n",
    "\n",
    "    def detail(self, courses):\n",
    "        print(f\"{self.campus} have {self.staff} and {self.courses}\")\n",
    "        print(courses)"
   ]
  },
  {
   "cell_type": "code",
   "execution_count": 13,
   "id": "3efb2ab1-0160-4cfa-9e1e-457572990971",
   "metadata": {},
   "outputs": [],
   "source": [
    "za = saylani(\"Za IT PARK\", 10, 5)"
   ]
  },
  {
   "cell_type": "code",
   "execution_count": 14,
   "id": "b9e14648-ed56-4163-81a6-153a226751ea",
   "metadata": {},
   "outputs": [
    {
     "name": "stdout",
     "output_type": "stream",
     "text": [
      "Za IT PARK have 10 and 5\n",
      "['AI', 'WEB', 'DE']\n"
     ]
    }
   ],
   "source": [
    "za.detail([\"AI\", \"WEB\", \"DE\"])"
   ]
  },
  {
   "cell_type": "markdown",
   "id": "832f3e5e-7b03-46eb-abcb-5849f9296777",
   "metadata": {},
   "source": [
    "### Task\n",
    "- Create a class of cars with atleast 3 attributes and 2 methods such that 1 method should be static. ALso class should have 2 class variable and one should be dynamic"
   ]
  },
  {
   "cell_type": "code",
   "execution_count": 24,
   "id": "6fd214c3-8dbc-4cb1-9819-41b705d23689",
   "metadata": {},
   "outputs": [],
   "source": [
    "class cars():\n",
    "\n",
    "    chasis_no= \"12345\"\n",
    "    \n",
    "    def __init__(self, color, Ctype, year):\n",
    "        self.color= color\n",
    "        self.Ctype= Ctype\n",
    "        self.year= year\n",
    "        cars.chasis_no= chasis_no\n",
    "\n",
    "    def details(self):\n",
    "       print(f\"{self.Ctype} car has been started\")\n",
    "\n",
    "    @staticmethod\n",
    "    def price():\n",
    "        print(\"Price is around 2 million\")      \n",
    "    "
   ]
  },
  {
   "cell_type": "code",
   "execution_count": 21,
   "id": "067bdae9-6dea-41b0-86cb-fc4e22f6d512",
   "metadata": {},
   "outputs": [],
   "source": [
    "civic = cars(\"silver\", \"Reborn\", \"2009\")"
   ]
  },
  {
   "cell_type": "code",
   "execution_count": 22,
   "id": "3e0d3a56-844c-4bfc-8f1b-2c32ed458119",
   "metadata": {},
   "outputs": [
    {
     "name": "stdout",
     "output_type": "stream",
     "text": [
      "Reborn car has been started\n"
     ]
    }
   ],
   "source": [
    "civic.details()"
   ]
  },
  {
   "cell_type": "code",
   "execution_count": 25,
   "id": "db7529ba-7276-415b-a577-69f763812933",
   "metadata": {},
   "outputs": [
    {
     "name": "stdout",
     "output_type": "stream",
     "text": [
      "Price is around 2 million\n"
     ]
    }
   ],
   "source": [
    "cars.price()"
   ]
  },
  {
   "cell_type": "code",
   "execution_count": null,
   "id": "59687d6a-5f7d-4b14-b357-c9af86d0f576",
   "metadata": {},
   "outputs": [],
   "source": []
  }
 ],
 "metadata": {
  "kernelspec": {
   "display_name": "Python 3 (ipykernel)",
   "language": "python",
   "name": "python3"
  },
  "language_info": {
   "codemirror_mode": {
    "name": "ipython",
    "version": 3
   },
   "file_extension": ".py",
   "mimetype": "text/x-python",
   "name": "python",
   "nbconvert_exporter": "python",
   "pygments_lexer": "ipython3",
   "version": "3.13.7"
  }
 },
 "nbformat": 4,
 "nbformat_minor": 5
}
