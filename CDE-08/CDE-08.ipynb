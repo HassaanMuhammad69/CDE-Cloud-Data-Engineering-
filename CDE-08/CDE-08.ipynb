{
 "cells": [
  {
   "cell_type": "code",
   "execution_count": 3,
   "id": "31cb62ff-f110-44f7-a2fb-cc1463251c1d",
   "metadata": {},
   "outputs": [],
   "source": [
    "def add_num(name, num1, num2):\n",
    "    sum = num1+num2\n",
    "    print(f\"{name} total is {sum}\") "
   ]
  },
  {
   "cell_type": "code",
   "execution_count": 4,
   "id": "13a5a1bc-1b1c-4423-bf8e-6c4a119af0b5",
   "metadata": {},
   "outputs": [
    {
     "name": "stdout",
     "output_type": "stream",
     "text": [
      "Hassaan total is 6\n"
     ]
    }
   ],
   "source": [
    "add_num(\"Hassaan\", 1,5)"
   ]
  },
  {
   "cell_type": "code",
   "execution_count": 5,
   "id": "932dc51c-5f17-47a4-afc1-2d2db4446163",
   "metadata": {},
   "outputs": [
    {
     "name": "stdout",
     "output_type": "stream",
     "text": [
      "Hassaan total is 6\n"
     ]
    }
   ],
   "source": [
    "add_num(name=\"Hassaan\", num1=2, num2=4)"
   ]
  },
  {
   "cell_type": "code",
   "execution_count": 6,
   "id": "7514c00c-d8fa-4f86-a70a-2f70cca43e70",
   "metadata": {},
   "outputs": [
    {
     "name": "stdin",
     "output_type": "stream",
     "text": [
      "Enter your name Taha\n",
      "Enter your num1:  5\n",
      "Enter your num2:  6\n"
     ]
    },
    {
     "name": "stdout",
     "output_type": "stream",
     "text": [
      "Taha total is 11\n"
     ]
    }
   ],
   "source": [
    "Name= input(\"Enter your name\")\n",
    "num_1= int(input(\"Enter your num1: \"))\n",
    "num_2= int(input(\"Enter your num2: \"))\n",
    "\n",
    "add_num(name=Name, num1=num_1, num2=num_2)"
   ]
  },
  {
   "cell_type": "markdown",
   "id": "48cbfd9c-3160-4524-98eb-a0df391b43b0",
   "metadata": {},
   "source": [
    "1. Task: give me the sum of valurrs passed as unknown args to function args (*)\n",
    "2. Task: give mr the sum of values passed as unknoes args as kwargs (**)"
   ]
  },
  {
   "cell_type": "code",
   "execution_count": 14,
   "id": "7998a912-b23b-4d23-8ea3-5c7d25a0cae6",
   "metadata": {},
   "outputs": [],
   "source": [
    "def Add_num(name, *nums):\n",
    "    print(f\"{name} total is {sum(nums)}\")"
   ]
  },
  {
   "cell_type": "code",
   "execution_count": 15,
   "id": "9d6af21c-48fa-428a-95cc-56791383401d",
   "metadata": {},
   "outputs": [
    {
     "name": "stdout",
     "output_type": "stream",
     "text": [
      "Hassaan total is 45\n"
     ]
    }
   ],
   "source": [
    "Add_num(\"Hassaan\", 8,9,7,5,3,1,2,10)"
   ]
  },
  {
   "cell_type": "code",
   "execution_count": 21,
   "id": "b537cee1-5a07-4e0f-9acc-6d7f896bee36",
   "metadata": {},
   "outputs": [],
   "source": [
    "def Add_num(name, **nums):\n",
    "    print(f\"{name} total is {sum(nums.values())}\")"
   ]
  },
  {
   "cell_type": "code",
   "execution_count": 24,
   "id": "60485357-9050-478c-af79-93627d83fac3",
   "metadata": {},
   "outputs": [
    {
     "name": "stdout",
     "output_type": "stream",
     "text": [
      "Hassaan total is 35\n"
     ]
    }
   ],
   "source": [
    "Add_num(\"Hassaan\", num1=8,num2=9,num3=7, num4=5,num5=3,num6=1,num7=2)"
   ]
  },
  {
   "cell_type": "markdown",
   "id": "7d614325-5ced-47d9-80c5-8f7a3c5299b8",
   "metadata": {},
   "source": [
    "### Fucntion within function"
   ]
  },
  {
   "cell_type": "code",
   "execution_count": 26,
   "id": "410ec76d-af09-432d-8de0-c55f0a9c9bd2",
   "metadata": {},
   "outputs": [
    {
     "name": "stdin",
     "output_type": "stream",
     "text": [
      "Enter factorial of:  5\n"
     ]
    },
    {
     "name": "stdout",
     "output_type": "stream",
     "text": [
      "120\n"
     ]
    }
   ],
   "source": [
    "def factorial(n):\n",
    "    if n==0 or n ==1 : return 1\n",
    "    else: return n*factorial(n-1)\n",
    "\n",
    "num =int(input(\"Enter factorial of: \"))\n",
    "print(factorial(num))"
   ]
  },
  {
   "cell_type": "markdown",
   "id": "37fb5a37-829d-4077-baf1-f485b8a128a2",
   "metadata": {},
   "source": [
    "### While loop "
   ]
  },
  {
   "cell_type": "markdown",
   "id": "db370234-2e6c-458a-b94a-ef698068d5af",
   "metadata": {},
   "source": [
    "#### Task: Write a code of fictorial using while loop"
   ]
  },
  {
   "cell_type": "code",
   "execution_count": 27,
   "id": "73f06194-73df-4752-81a1-1bd1220a3c60",
   "metadata": {},
   "outputs": [
    {
     "name": "stdin",
     "output_type": "stream",
     "text": [
      "Enter factorial of:  5\n"
     ]
    },
    {
     "name": "stdout",
     "output_type": "stream",
     "text": [
      "120\n"
     ]
    }
   ],
   "source": [
    "def factorial(n):\n",
    "    while n==0 or n ==1 : return 1\n",
    "    else: return n*factorial(n-1)\n",
    "\n",
    "num =int(input(\"Enter factorial of: \"))\n",
    "print(factorial(num))"
   ]
  },
  {
   "cell_type": "code",
   "execution_count": 28,
   "id": "0b83e88f-ac4d-4e43-9e40-60c6efbd7065",
   "metadata": {},
   "outputs": [
    {
     "name": "stdin",
     "output_type": "stream",
     "text": [
      "Enter factorial of:  5\n"
     ]
    },
    {
     "data": {
      "text/plain": [
       "120"
      ]
     },
     "execution_count": 28,
     "metadata": {},
     "output_type": "execute_result"
    }
   ],
   "source": [
    "fact= 1\n",
    "n= int(input(\"Enter factorial of: \"))\n",
    "\n",
    "while(n>0):\n",
    "    fact*=n\n",
    "    n-=1\n",
    "fact"
   ]
  },
  {
   "cell_type": "code",
   "execution_count": 30,
   "id": "32ade502-5284-482c-8a73-786866bd3604",
   "metadata": {},
   "outputs": [
    {
     "name": "stdout",
     "output_type": "stream",
     "text": [
      "Hassaan\n"
     ]
    },
    {
     "name": "stdin",
     "output_type": "stream",
     "text": [
      "Enter your value.. jamal\n"
     ]
    },
    {
     "name": "stdout",
     "output_type": "stream",
     "text": [
      "jamal\n"
     ]
    },
    {
     "name": "stdin",
     "output_type": "stream",
     "text": [
      "Enter your value.. qui\n"
     ]
    },
    {
     "name": "stdout",
     "output_type": "stream",
     "text": [
      "qui\n"
     ]
    },
    {
     "name": "stdin",
     "output_type": "stream",
     "text": [
      "Enter your value.. quit\n"
     ]
    }
   ],
   "source": [
    "user_input= \"Hassaan\"\n",
    "while(user_input != 'quit'):\n",
    "    print(user_input)\n",
    "    user_input=input(\"Enter your value..\")"
   ]
  },
  {
   "cell_type": "markdown",
   "id": "4cdddba2-7d4c-440c-9cc6-a707ffd0d5d3",
   "metadata": {},
   "source": [
    "### Classes"
   ]
  },
  {
   "cell_type": "markdown",
   "id": "2c5866e2-6614-4ee2-9cb1-f56550349366",
   "metadata": {},
   "source": [
    ". Every class have two things\n",
    "\n",
    "    1- Characterstics/properties --> Attrributes\n",
    "    \n",
    "    2- Vehaviours/action --> Method\n",
    "\n",
    "eg car:\n",
    "- charachterstics eg: colour, model, make\n",
    "- Behaviours eg: start, end"
   ]
  },
  {
   "cell_type": "code",
   "execution_count": 44,
   "id": "d655f7af-4021-4728-9e0d-deebe1f7d13c",
   "metadata": {},
   "outputs": [],
   "source": [
    "class cars():\n",
    "    def __init__(self,colour, model, make): #constructor\n",
    "        self.colour = colour\n",
    "        self.model = model\n",
    "        self.make = make\n",
    "\n",
    "    def start(self): #method\n",
    "        \"\"\"\n",
    "        Start obj belongs to car\n",
    "        arg: no arg\n",
    "        return: no return\n",
    "        \"\"\"\n",
    "        print(\"Car can start\")\n",
    "        \n",
    "    def stop(self): #method \n",
    "        \"\"\"\n",
    "        Start obj belongs to car\n",
    "        arg: no arg\n",
    "        return: no return\n",
    "        \"\"\"\n",
    "        print(\"Car can stop\")"
   ]
  },
  {
   "cell_type": "code",
   "execution_count": 45,
   "id": "015a9713-d81a-4c69-b3da-ddc19b3deb3d",
   "metadata": {},
   "outputs": [],
   "source": [
    "civic= cars(\"Red\",\"Honda\", 2009)"
   ]
  },
  {
   "cell_type": "code",
   "execution_count": 46,
   "id": "9d0ccd47-5078-49af-aae0-adc202d60a43",
   "metadata": {},
   "outputs": [
    {
     "name": "stdout",
     "output_type": "stream",
     "text": [
      "Car can stop\n"
     ]
    }
   ],
   "source": [
    "civic.stop()"
   ]
  },
  {
   "cell_type": "markdown",
   "id": "4e066f63-4eed-437e-baa9-2bfa37a4fcca",
   "metadata": {},
   "source": [
    "### Task: Crate a class of human tha thave atleast 2 attrributs and 2 methods"
   ]
  },
  {
   "cell_type": "code",
   "execution_count": 49,
   "id": "4e7da05f-5ff4-469b-bd87-79326d0b0547",
   "metadata": {},
   "outputs": [],
   "source": [
    "class human():\n",
    "    def __init__(self, hands, legs):\n",
    "        self.hands= hands\n",
    "        self.legs= legs\n",
    "    \n",
    "    def walk(self):\n",
    "        print(\"This human can walk\")\n",
    "    def hunt(self):\n",
    "        print(\"This human can hunt\")\n",
    "    "
   ]
  },
  {
   "cell_type": "code",
   "execution_count": 50,
   "id": "f1d2b9fa-61cb-4816-b93c-c03f7be3d0b1",
   "metadata": {},
   "outputs": [],
   "source": [
    "Hassaan= human(\"2 hands\", \"2 legs\")"
   ]
  },
  {
   "cell_type": "code",
   "execution_count": 52,
   "id": "e0fa0bc1-ef1c-4942-b9a6-228cf22d3f9e",
   "metadata": {},
   "outputs": [
    {
     "name": "stdout",
     "output_type": "stream",
     "text": [
      "This human can hunt\n"
     ]
    }
   ],
   "source": [
    "Hassaan.hunt()"
   ]
  },
  {
   "cell_type": "markdown",
   "id": "39d82be7-124c-43e2-9a5d-97fa83a9c6a2",
   "metadata": {},
   "source": [
    "### Create a bank account"
   ]
  },
  {
   "cell_type": "code",
   "execution_count": 55,
   "id": "57bf01d2-bc52-46dc-9e95-0a4aec720e70",
   "metadata": {},
   "outputs": [],
   "source": [
    "class bank_acc():\n",
    "    def __init__(self, name, balance):\n",
    "        self.name= name\n",
    "        self.balance= balance\n",
    "\n",
    "    def deposit(self):\n",
    "        print(\"successfully deposited\")\n",
    "\n",
    "    def withDrawl(self):\n",
    "        print(\"Succenfully withdrawal\")"
   ]
  },
  {
   "cell_type": "code",
   "execution_count": 57,
   "id": "8021c625-12ce-48f7-8b58-ac3dccd56fc8",
   "metadata": {},
   "outputs": [],
   "source": [
    "HBL= bank_acc(\"Hassaan\", 9876522)"
   ]
  },
  {
   "cell_type": "code",
   "execution_count": 58,
   "id": "c007352c-ba82-4999-bd6b-7a30c32ae782",
   "metadata": {},
   "outputs": [
    {
     "name": "stdout",
     "output_type": "stream",
     "text": [
      "successfully deposited\n"
     ]
    }
   ],
   "source": [
    "HBL.deposit()"
   ]
  },
  {
   "cell_type": "code",
   "execution_count": null,
   "id": "cf6a7565-7361-4365-907b-85c6e7970b34",
   "metadata": {},
   "outputs": [],
   "source": []
  }
 ],
 "metadata": {
  "kernelspec": {
   "display_name": "Python 3 (ipykernel)",
   "language": "python",
   "name": "python3"
  },
  "language_info": {
   "codemirror_mode": {
    "name": "ipython",
    "version": 3
   },
   "file_extension": ".py",
   "mimetype": "text/x-python",
   "name": "python",
   "nbconvert_exporter": "python",
   "pygments_lexer": "ipython3",
   "version": "3.13.7"
  }
 },
 "nbformat": 4,
 "nbformat_minor": 5
}
