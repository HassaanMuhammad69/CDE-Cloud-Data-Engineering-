{
 "cells": [
  {
   "cell_type": "markdown",
   "id": "8a1535d8-9ee0-4644-83d6-c26ba5473fdb",
   "metadata": {},
   "source": [
    "## OOP "
   ]
  },
  {
   "cell_type": "markdown",
   "id": "548cfc2d-70b1-43aa-90cb-80cc492441b0",
   "metadata": {},
   "source": [
    " ### Abstraction"
   ]
  },
  {
   "cell_type": "code",
   "execution_count": 2,
   "id": "864cb621-688e-4532-af70-e3dd76ddb887",
   "metadata": {},
   "outputs": [],
   "source": [
    "#abstract class\n",
    "class Shape():\n",
    "\n",
    "    #abstract method\n",
    "    def sides(self):\n",
    "        pass"
   ]
  },
  {
   "cell_type": "code",
   "execution_count": 4,
   "id": "f79bffae-c801-4eb0-a55c-ab82c01cb924",
   "metadata": {},
   "outputs": [],
   "source": [
    "class square(Shape):\n",
    "\n",
    "    def sides(self):\n",
    "        print(\"Square has 4 sides\")"
   ]
  },
  {
   "cell_type": "code",
   "execution_count": 5,
   "id": "3b142d29-affb-488c-9a71-5eea054bbd3d",
   "metadata": {},
   "outputs": [
    {
     "name": "stdout",
     "output_type": "stream",
     "text": [
      "Square has 4 sides\n"
     ]
    }
   ],
   "source": [
    "sq_obj= square()\n",
    "sq_obj.sides()"
   ]
  },
  {
   "cell_type": "code",
   "execution_count": 6,
   "id": "13b841d9-609d-4249-a27a-37faeb60dba3",
   "metadata": {},
   "outputs": [],
   "source": [
    "class circle(Shape):\n",
    "\n",
    "    def sides(self):\n",
    "        print(\"Circle has no sides\")"
   ]
  },
  {
   "cell_type": "code",
   "execution_count": 7,
   "id": "c3a4773c-a848-4be6-a82d-86b27867e4e1",
   "metadata": {},
   "outputs": [
    {
     "name": "stdout",
     "output_type": "stream",
     "text": [
      "Circle has no sides\n"
     ]
    }
   ],
   "source": [
    "cr_obj= circle()\n",
    "cr_obj.sides()"
   ]
  },
  {
   "cell_type": "markdown",
   "id": "09148440-3a48-4832-ace6-ca40ee36cd7a",
   "metadata": {},
   "source": [
    "## Polymorphism\n",
    "- The ability of different classes to respond to the same messages(method call) in different ways\n",
    "- This allow for code to work with objects of various classes as if they were objects of a common superclass"
   ]
  },
  {
   "cell_type": "code",
   "execution_count": 10,
   "id": "255802f6-d8c7-437a-a063-3c9f49484030",
   "metadata": {},
   "outputs": [
    {
     "name": "stdout",
     "output_type": "stream",
     "text": [
      "Animal speak\n",
      "Woof\n",
      "Meow\n"
     ]
    }
   ],
   "source": [
    "class Animal():\n",
    "    def speak(self):\n",
    "        return \"Animal speak\"\n",
    "\n",
    "class Dog(Animal):\n",
    "    def speak(self):\n",
    "        return \"Woof\"\n",
    "\n",
    "class Cat(Animal):\n",
    "    def speak(self):\n",
    "        return \"Meow\"\n",
    "\n",
    "ani= Animal()\n",
    "dog= Dog()\n",
    "cat= Cat()\n",
    "\n",
    "print(ani.speak())\n",
    "print(dog.speak())\n",
    "print(cat.speak())"
   ]
  },
  {
   "cell_type": "markdown",
   "id": "9d002122-1a08-407d-a1c9-50bf3d76a92a",
   "metadata": {},
   "source": [
    "### Encapsulation"
   ]
  },
  {
   "cell_type": "code",
   "execution_count": 11,
   "id": "f94d8372-ea79-47f4-bcd2-3975bdccebd3",
   "metadata": {},
   "outputs": [],
   "source": [
    "class saylani():\n",
    "    def __init__(self):\n",
    "        self.helpline= \"786\" #pulic\n",
    "        self._batch= \"Python\" #protected\n",
    "        self.__result= \"78%\" #Private"
   ]
  },
  {
   "cell_type": "code",
   "execution_count": 12,
   "id": "914dff54-283b-4c9e-9af3-819f50ea5f25",
   "metadata": {},
   "outputs": [],
   "source": [
    "sa_obj= saylani()"
   ]
  },
  {
   "cell_type": "code",
   "execution_count": 13,
   "id": "7664c232-8941-4ab0-ac1a-f6b7f54f353a",
   "metadata": {},
   "outputs": [
    {
     "data": {
      "text/plain": [
       "'786'"
      ]
     },
     "execution_count": 13,
     "metadata": {},
     "output_type": "execute_result"
    }
   ],
   "source": [
    "sa_obj.helpline"
   ]
  },
  {
   "cell_type": "code",
   "execution_count": 14,
   "id": "77976ba9-bafc-4984-b920-7b25010f2723",
   "metadata": {},
   "outputs": [
    {
     "data": {
      "text/plain": [
       "'Python'"
      ]
     },
     "execution_count": 14,
     "metadata": {},
     "output_type": "execute_result"
    }
   ],
   "source": [
    "sa_obj._batch"
   ]
  },
  {
   "cell_type": "code",
   "execution_count": 16,
   "id": "b6a53190-d963-49ac-8314-3ba80644a426",
   "metadata": {},
   "outputs": [
    {
     "data": {
      "text/plain": [
       "'78%'"
      ]
     },
     "execution_count": 16,
     "metadata": {},
     "output_type": "execute_result"
    }
   ],
   "source": [
    "sa_obj._saylani__result"
   ]
  },
  {
   "cell_type": "markdown",
   "id": "7cf430f5-7994-4351-beb7-7acb864fa5fe",
   "metadata": {},
   "source": [
    "#### TASK1:\n",
    "create three public, protected and private methods like we did for attributes\n"
   ]
  },
  {
   "cell_type": "code",
   "execution_count": 19,
   "id": "d29cf512-425b-4aac-87bc-f9ef52b878cb",
   "metadata": {},
   "outputs": [],
   "source": [
    "class Saylani():\n",
    "    def __init__(self):\n",
    "        pass\n",
    "\n",
    "    def helpline(self):\n",
    "        return \"786\"\n",
    "\n",
    "    def _batch(self):\n",
    "        return \"Python\"\n",
    "\n",
    "    def __result(self):\n",
    "        return \"78%\""
   ]
  },
  {
   "cell_type": "code",
   "execution_count": 20,
   "id": "b6397204-d80e-4a9b-91a1-3950aa9951c4",
   "metadata": {},
   "outputs": [],
   "source": [
    "sa_obj= Saylani()"
   ]
  },
  {
   "cell_type": "code",
   "execution_count": 21,
   "id": "875594e7-7977-4679-80d3-2c96235952c0",
   "metadata": {},
   "outputs": [
    {
     "data": {
      "text/plain": [
       "'786'"
      ]
     },
     "execution_count": 21,
     "metadata": {},
     "output_type": "execute_result"
    }
   ],
   "source": [
    "sa_obj.helpline()"
   ]
  },
  {
   "cell_type": "code",
   "execution_count": 22,
   "id": "8348c1a4-fdea-40b8-8dde-fac023da985d",
   "metadata": {},
   "outputs": [
    {
     "data": {
      "text/plain": [
       "'Python'"
      ]
     },
     "execution_count": 22,
     "metadata": {},
     "output_type": "execute_result"
    }
   ],
   "source": [
    "sa_obj._batch()"
   ]
  },
  {
   "cell_type": "code",
   "execution_count": 24,
   "id": "af3e62df-9dfc-4164-8bab-68a350959423",
   "metadata": {},
   "outputs": [
    {
     "data": {
      "text/plain": [
       "'78%'"
      ]
     },
     "execution_count": 24,
     "metadata": {},
     "output_type": "execute_result"
    }
   ],
   "source": [
    "sa_obj._Saylani__result()"
   ]
  },
  {
   "cell_type": "markdown",
   "id": "63f988a9-f9eb-4925-aff6-cd131fb6d770",
   "metadata": {},
   "source": [
    "### Task 2\n",
    "- use encapsulation for class i:e., StudentLogin():\n",
    "- initialize two static but private attributes i:e., __user_name, __password\n",
    "- create one private methods i:e., name __dbconectivity() that will validate you username & password. if both are valid then should print \"valid user\" otherwise \"not valid\"\n",
    "- create one public methods i:e., update password & it should update your private password"
   ]
  },
  {
   "cell_type": "code",
   "execution_count": 54,
   "id": "52049000-b60b-46b7-8c29-57eb7a9399fd",
   "metadata": {},
   "outputs": [],
   "source": [
    "class StudentLogin():\n",
    "\n",
    "    def __init__(self):\n",
    "        self.__username= \"Hassaan\"\n",
    "        self.__password= \"1234\"\n",
    "\n",
    "    def __dbconnect(self, username, password):\n",
    "        \n",
    "        if username == self.__username and password == self.__password:\n",
    "            print(\"Valid user\")\n",
    "        \n",
    "        else:\n",
    "            print(\"Not valid\")\n",
    "\n",
    "    def Login(self, username, password):\n",
    "        self.__dbconnect(username, password)\n",
    "\n",
    "    def updatePass(self, newpass):\n",
    "        newpass= self.__password\n",
    "        \n",
    "        "
   ]
  },
  {
   "cell_type": "code",
   "execution_count": 56,
   "id": "100aa0a3-669c-4392-a8ea-64699526b5c6",
   "metadata": {},
   "outputs": [
    {
     "name": "stdout",
     "output_type": "stream",
     "text": [
      "Valid user\n"
     ]
    }
   ],
   "source": [
    "std_login= StudentLogin()\n",
    "std_login.Login(\"Hassaan\", \"1234\")"
   ]
  },
  {
   "cell_type": "markdown",
   "id": "691b0b5f-4d72-4a3a-8025-0772bc5ee9f8",
   "metadata": {},
   "source": [
    "## Data Files"
   ]
  },
  {
   "cell_type": "markdown",
   "id": "17c77d0d-d975-49e6-b1e0-2046d3c35205",
   "metadata": {},
   "source": [
    "- Read -> r\n",
    "- Write -> w\n",
    "- Append -> a\n",
    "- Read/Write -> w+"
   ]
  },
  {
   "cell_type": "code",
   "execution_count": 60,
   "id": "086702b7-c603-440b-a7d3-3547df493f2d",
   "metadata": {},
   "outputs": [],
   "source": [
    "# Method1= We have to specifically close the file\n",
    "f= open('file.txt', 'w') \n",
    "f.write(\"This is the content of my file\")\n",
    "f.close()"
   ]
  },
  {
   "cell_type": "code",
   "execution_count": 61,
   "id": "3a293176-f7cd-4a5e-ad37-b8bf98d9bc53",
   "metadata": {},
   "outputs": [],
   "source": [
    "#Method2= Fiel will close automatically (recommended method)\n",
    "with open('file.txt', 'w') as f:\n",
    "    f.write(\"Now file will close automatically\") #this wil overwrite the content if the file exist"
   ]
  },
  {
   "cell_type": "code",
   "execution_count": 70,
   "id": "b65995e4-119f-45c6-80df-6d32bb06f936",
   "metadata": {},
   "outputs": [],
   "source": [
    "with open('file.txt', 'a') as f:\n",
    "    f.write(\"Now this line will get appended in the file. \\nthis will get append in next line\")"
   ]
  },
  {
   "cell_type": "code",
   "execution_count": 71,
   "id": "7991f927-7095-4512-8cd4-916ba4275882",
   "metadata": {},
   "outputs": [
    {
     "name": "stdout",
     "output_type": "stream",
     "text": [
      "Now this line will get appended in the file. \n",
      "this will get append in next line\n"
     ]
    }
   ],
   "source": [
    "with open('file.txt', 'r') as f:\n",
    "    file_content= f.read()\n",
    "    print(file_content)"
   ]
  },
  {
   "cell_type": "markdown",
   "id": "3b72f862-d648-455d-8d51-8ab8408bd524",
   "metadata": {},
   "source": [
    "## Task 1\n",
    "- use module = \"W+\" and write something in the file first ad then read the content of my file"
   ]
  },
  {
   "cell_type": "code",
   "execution_count": 72,
   "id": "81f85a67-9f23-49de-98d2-89f30e438d00",
   "metadata": {},
   "outputs": [
    {
     "name": "stdout",
     "output_type": "stream",
     "text": [
      "\n"
     ]
    }
   ],
   "source": []
  },
  {
   "cell_type": "markdown",
   "id": "472e8f72-629c-4e7b-9bc9-b7cc5546371c",
   "metadata": {},
   "source": [
    "## Modules"
   ]
  },
  {
   "cell_type": "code",
   "execution_count": null,
   "id": "93b59136-4b36-491e-a2d7-cd519299b945",
   "metadata": {},
   "outputs": [],
   "source": [
    "import module as m "
   ]
  }
 ],
 "metadata": {
  "kernelspec": {
   "display_name": "Python 3 (ipykernel)",
   "language": "python",
   "name": "python3"
  },
  "language_info": {
   "codemirror_mode": {
    "name": "ipython",
    "version": 3
   },
   "file_extension": ".py",
   "mimetype": "text/x-python",
   "name": "python",
   "nbconvert_exporter": "python",
   "pygments_lexer": "ipython3",
   "version": "3.13.7"
  }
 },
 "nbformat": 4,
 "nbformat_minor": 5
}
