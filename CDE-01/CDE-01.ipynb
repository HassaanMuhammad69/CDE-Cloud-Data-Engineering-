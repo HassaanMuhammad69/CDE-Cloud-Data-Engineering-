{
 "cells": [
  {
   "cell_type": "code",
   "execution_count": 1,
   "id": "6227ded4-78b8-4bd6-9645-bb2a203316f8",
   "metadata": {},
   "outputs": [
    {
     "name": "stdout",
     "output_type": "stream",
     "text": [
      "helooo\n"
     ]
    }
   ],
   "source": [
    "print(\"helooo\")"
   ]
  },
  {
   "cell_type": "code",
   "execution_count": null,
   "id": "14722dd2-1701-4c38-bcf0-42e30ee79f83",
   "metadata": {},
   "outputs": [],
   "source": []
  }
 ],
 "metadata": {
  "kernelspec": {
   "display_name": "Python 3 (ipykernel)",
   "language": "python",
   "name": "python3"
  },
  "language_info": {
   "codemirror_mode": {
    "name": "ipython",
    "version": 3
   },
   "file_extension": ".py",
   "mimetype": "text/x-python",
   "name": "python",
   "nbconvert_exporter": "python",
   "pygments_lexer": "ipython3",
   "version": "3.13.5"
  }
 },
 "nbformat": 4,
 "nbformat_minor": 5
}
