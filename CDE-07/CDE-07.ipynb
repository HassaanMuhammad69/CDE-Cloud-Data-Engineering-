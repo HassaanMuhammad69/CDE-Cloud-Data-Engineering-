{
 "cells": [
  {
   "cell_type": "markdown",
   "id": "947f20b8-5622-4db1-9cdf-3c1915a374cd",
   "metadata": {},
   "source": [
    "### Dictionary"
   ]
  },
  {
   "cell_type": "code",
   "execution_count": 2,
   "id": "043c4649-bd14-4490-b87c-634830379dbf",
   "metadata": {},
   "outputs": [],
   "source": [
    "customer={\n",
    "\"customer id\": 0,\n",
    "    \"first name\": \"Hassaan\"\n",
    "}"
   ]
  },
  {
   "cell_type": "code",
   "execution_count": 3,
   "id": "cfb55269-f232-47cc-b209-3e4f95604d83",
   "metadata": {},
   "outputs": [
    {
     "data": {
      "text/plain": [
       "'Hassaan'"
      ]
     },
     "execution_count": 3,
     "metadata": {},
     "output_type": "execute_result"
    }
   ],
   "source": [
    "customer[\"first name\"]"
   ]
  },
  {
   "cell_type": "code",
   "execution_count": 4,
   "id": "2008df5f-aa92-4ee1-ac4c-00a90671948d",
   "metadata": {},
   "outputs": [],
   "source": [
    "customer[\"Phone\"]=\"+921321259610\""
   ]
  },
  {
   "cell_type": "code",
   "execution_count": 5,
   "id": "2ba972aa-b608-40fc-a5e2-126f082fb488",
   "metadata": {},
   "outputs": [
    {
     "data": {
      "text/plain": [
       "{'customer id': 0, 'first name': 'Hassaan', 'Phone': '+921321259610'}"
      ]
     },
     "execution_count": 5,
     "metadata": {},
     "output_type": "execute_result"
    }
   ],
   "source": [
    "customer"
   ]
  },
  {
   "cell_type": "code",
   "execution_count": 7,
   "id": "bda8b117-2455-45c2-a53b-a3638b7936d3",
   "metadata": {},
   "outputs": [
    {
     "data": {
      "text/plain": [
       "'+921321259610'"
      ]
     },
     "execution_count": 7,
     "metadata": {},
     "output_type": "execute_result"
    }
   ],
   "source": [
    "# get values\n",
    "customer.get(\"Phone\")"
   ]
  },
  {
   "cell_type": "code",
   "execution_count": 8,
   "id": "6b725b49-8fb7-4bc0-8557-0a3e8ce5c01e",
   "metadata": {},
   "outputs": [],
   "source": [
    "customer.setdefault(\"address\")"
   ]
  },
  {
   "cell_type": "code",
   "execution_count": 9,
   "id": "26604572-806d-4d28-a848-7ec695876d8d",
   "metadata": {},
   "outputs": [
    {
     "data": {
      "text/plain": [
       "{'customer id': 0,\n",
       " 'first name': 'Hassaan',\n",
       " 'Phone': '+921321259610',\n",
       " 'address': None}"
      ]
     },
     "execution_count": 9,
     "metadata": {},
     "output_type": "execute_result"
    }
   ],
   "source": [
    "customer"
   ]
  },
  {
   "cell_type": "code",
   "execution_count": 13,
   "id": "df73c365-6484-4297-9c67-a29c6961e292",
   "metadata": {},
   "outputs": [
    {
     "data": {
      "text/plain": [
       "('address', None)"
      ]
     },
     "execution_count": 13,
     "metadata": {},
     "output_type": "execute_result"
    }
   ],
   "source": [
    "#work in LIFO\n",
    "customer.popitem()"
   ]
  },
  {
   "cell_type": "code",
   "execution_count": 14,
   "id": "28f5ddf1-c6c0-4c6a-919e-6b022308ed6f",
   "metadata": {},
   "outputs": [
    {
     "data": {
      "text/plain": [
       "'+921321259610'"
      ]
     },
     "execution_count": 14,
     "metadata": {},
     "output_type": "execute_result"
    }
   ],
   "source": [
    "#Selected item delete\n",
    "customer.pop(\"Phone\")"
   ]
  },
  {
   "cell_type": "code",
   "execution_count": 15,
   "id": "36774724-b56c-488a-9e06-fd695de1e416",
   "metadata": {},
   "outputs": [
    {
     "data": {
      "text/plain": [
       "{'customer id': 0, 'first name': 'Hassaan'}"
      ]
     },
     "execution_count": 15,
     "metadata": {},
     "output_type": "execute_result"
    }
   ],
   "source": [
    "customer"
   ]
  },
  {
   "cell_type": "markdown",
   "id": "5cfab6a9-6f43-4f04-915f-9b4a1b08da8e",
   "metadata": {},
   "source": [
    "### list of dictionaries"
   ]
  },
  {
   "cell_type": "code",
   "execution_count": 16,
   "id": "6f405893-a081-4ead-8bde-e3b8be8abc62",
   "metadata": {},
   "outputs": [],
   "source": [
    "lst_dict=[\n",
    "    {'customer id': 0,\n",
    " 'first name': 'Hassaan',\n",
    " 'Phone': '+921321259610',\n",
    " 'address': \"Karacgi\"}\n",
    "]"
   ]
  },
  {
   "cell_type": "code",
   "execution_count": 20,
   "id": "9fd0ac5a-c632-4376-adda-5954187254ae",
   "metadata": {},
   "outputs": [],
   "source": [
    "lst_dict[0][\"age\"]=22"
   ]
  },
  {
   "cell_type": "code",
   "execution_count": 21,
   "id": "25e2176b-4ef0-4072-a03b-3c0aee0b17b3",
   "metadata": {},
   "outputs": [
    {
     "data": {
      "text/plain": [
       "[{'customer id': 0,\n",
       "  'first name': 'Hassaan',\n",
       "  'Phone': '+921321259610',\n",
       "  'address': 'Karacgi',\n",
       "  'age': 22}]"
      ]
     },
     "execution_count": 21,
     "metadata": {},
     "output_type": "execute_result"
    }
   ],
   "source": [
    "lst_dict"
   ]
  },
  {
   "cell_type": "markdown",
   "id": "63564e84-f7a2-496e-9c6e-1b851699c8f1",
   "metadata": {},
   "source": [
    "### Task: \n",
    "- Using loops add a \"age\" key in all dictionary with default value as none.\n",
    "\n",
    "- Use a list to convert the customrer dictionary to list of list(make sure in nested list you have only the value Not keys)\n",
    "\n",
    "- Convert this (list of dict) to (dict to dict)\n",
    "\n",
    "- remove all acustomer if from dict of dict\n",
    "\n",
    "- Apply comprehension method if posssbile"
   ]
  },
  {
   "cell_type": "code",
   "execution_count": 38,
   "id": "f2671adc-be14-4c29-b3a0-d3eb3d6db58b",
   "metadata": {},
   "outputs": [],
   "source": [
    "customers = [\n",
    " {\n",
    " \"customer id\": 0,\n",
    " \"first name\":\"John\",\n",
    " \"last name\": \"Ogden\",\n",
    " \"address\": \"301 Arbor Rd.\",\n",
    " },\n",
    " {\n",
    " \"customer id\": 1,\n",
    " \"first name\":\"Ann\",\n",
    " \"last name\": \"Sattermyer\",\n",
    " \"address\": \"PO Box 1145\",\n",
    " },\n",
    " {\n",
    " \"customer id\": 2,\n",
    " \"first name\":\"Jill\",\n",
    " \"last name\": \"Somers\",\n",
    " \"address\": \"3 Main St.\",\n",
    " },\n",
    " ]"
   ]
  },
  {
   "cell_type": "code",
   "execution_count": 26,
   "id": "3f53bda6-ddad-488d-abf1-274aac63e21f",
   "metadata": {},
   "outputs": [],
   "source": [
    "for i in range(len(customers)):\n",
    "    customers[i][\"age\"]=\"None\""
   ]
  },
  {
   "cell_type": "code",
   "execution_count": 27,
   "id": "9f0e0592-8d57-4e11-a2a1-1ce29b8324d2",
   "metadata": {},
   "outputs": [
    {
     "data": {
      "text/plain": [
       "[{'customer id': 0,\n",
       "  'first name': 'John',\n",
       "  'last name': 'Ogden',\n",
       "  'address': '301 Arbor Rd.',\n",
       "  'age': 'None'},\n",
       " {'customer id': 1,\n",
       "  'first name': 'Ann',\n",
       "  'last name': 'Sattermyer',\n",
       "  'address': 'PO Box 1145',\n",
       "  'age': 'None'},\n",
       " {'customer id': 2,\n",
       "  'first name': 'Jill',\n",
       "  'last name': 'Somers',\n",
       "  'address': '3 Main St.',\n",
       "  'age': 'None'}]"
      ]
     },
     "execution_count": 27,
     "metadata": {},
     "output_type": "execute_result"
    }
   ],
   "source": [
    "customers"
   ]
  },
  {
   "cell_type": "code",
   "execution_count": 39,
   "id": "ee3cd03f-d191-4334-8f1a-e4577e9c252c",
   "metadata": {},
   "outputs": [],
   "source": [
    "#Method 2 \n",
    "# ** => for dict\n",
    "# * => for list\n",
    "customers= [{**customer, \"age\":None} for customer in customers]"
   ]
  },
  {
   "cell_type": "code",
   "execution_count": 40,
   "id": "f690861a-f4ce-4216-974a-38f085860ddf",
   "metadata": {},
   "outputs": [
    {
     "data": {
      "text/plain": [
       "[{'customer id': 0,\n",
       "  'first name': 'John',\n",
       "  'last name': 'Ogden',\n",
       "  'address': '301 Arbor Rd.',\n",
       "  'age': None},\n",
       " {'customer id': 1,\n",
       "  'first name': 'Ann',\n",
       "  'last name': 'Sattermyer',\n",
       "  'address': 'PO Box 1145',\n",
       "  'age': None},\n",
       " {'customer id': 2,\n",
       "  'first name': 'Jill',\n",
       "  'last name': 'Somers',\n",
       "  'address': '3 Main St.',\n",
       "  'age': None}]"
      ]
     },
     "execution_count": 40,
     "metadata": {},
     "output_type": "execute_result"
    }
   ],
   "source": [
    "customers"
   ]
  },
  {
   "cell_type": "code",
   "execution_count": 43,
   "id": "bf581983-7b08-4b2d-b0ae-e60f85b31357",
   "metadata": {},
   "outputs": [
    {
     "data": {
      "text/plain": [
       "[[0, 'John', 'Ogden', '301 Arbor Rd.', None],\n",
       " [1, 'Ann', 'Sattermyer', 'PO Box 1145', None],\n",
       " [2, 'Jill', 'Somers', '3 Main St.', None]]"
      ]
     },
     "execution_count": 43,
     "metadata": {},
     "output_type": "execute_result"
    }
   ],
   "source": [
    "#task2\n",
    "# method 1\n",
    "\n",
    "list_of_list=[]\n",
    "\n",
    "for customer in customers:\n",
    "    list_of_list.append(list(customer.values()))\n",
    "\n",
    "list_of_list"
   ]
  },
  {
   "cell_type": "code",
   "execution_count": 44,
   "id": "d13cd38b-390f-4f3a-a256-69638420cd62",
   "metadata": {},
   "outputs": [
    {
     "data": {
      "text/plain": [
       "[[0, 'John', 'Ogden', '301 Arbor Rd.', None],\n",
       " [1, 'Ann', 'Sattermyer', 'PO Box 1145', None],\n",
       " [2, 'Jill', 'Somers', '3 Main St.', None]]"
      ]
     },
     "execution_count": 44,
     "metadata": {},
     "output_type": "execute_result"
    }
   ],
   "source": [
    "#method 2\n",
    "\n",
    "list_of_list=[list(customer.values()) for customer in customers]\n",
    "list_of_list"
   ]
  },
  {
   "cell_type": "markdown",
   "id": "17bcb4c2-4793-4e30-9a39-bc3a706b1b36",
   "metadata": {},
   "source": [
    "### Function\n"
   ]
  },
  {
   "cell_type": "code",
   "execution_count": null,
   "id": "6b3d7fa3-b45e-48d6-b159-0dcb8804effa",
   "metadata": {},
   "outputs": [],
   "source": [
    "BMI= weight/height**2"
   ]
  },
  {
   "cell_type": "code",
   "execution_count": 49,
   "id": "c673694f-c103-4308-8d6c-973cb0b19314",
   "metadata": {},
   "outputs": [
    {
     "data": {
      "text/plain": [
       "1.872770511296076"
      ]
     },
     "execution_count": 49,
     "metadata": {},
     "output_type": "execute_result"
    }
   ],
   "source": [
    "def BMI(weight, height):\n",
    "   return weight/(height**2)\n",
    "BMI(63,5.8)"
   ]
  },
  {
   "cell_type": "code",
   "execution_count": null,
   "id": "4a2f3fe9-5d89-4a65-a117-28ea8a08b3e7",
   "metadata": {},
   "outputs": [],
   "source": []
  },
  {
   "cell_type": "code",
   "execution_count": 50,
   "id": "c46a1aa6-5233-4de5-a93c-2a7c000f82ef",
   "metadata": {},
   "outputs": [],
   "source": [
    "def greet(gretting_line):\n",
    "    return gretting_line"
   ]
  },
  {
   "cell_type": "code",
   "execution_count": 51,
   "id": "13f024d4-a6aa-4596-a565-e0188cd24be9",
   "metadata": {},
   "outputs": [
    {
     "data": {
      "text/plain": [
       "'HELLOOO'"
      ]
     },
     "execution_count": 51,
     "metadata": {},
     "output_type": "execute_result"
    }
   ],
   "source": [
    "greet(\"HELLOOO\")"
   ]
  },
  {
   "cell_type": "code",
   "execution_count": 56,
   "id": "e26f1b0e-0b47-471d-84c6-79a31d7c8ece",
   "metadata": {},
   "outputs": [],
   "source": [
    "def greet(firstname, city):\n",
    "    return f\" Hi, {firstname} Welcome to {city}\""
   ]
  },
  {
   "cell_type": "code",
   "execution_count": 57,
   "id": "23e6028e-a9c3-42f0-b112-c379271ef718",
   "metadata": {},
   "outputs": [
    {
     "data": {
      "text/plain": [
       "' Hi, Hassaan Welcome to Karachi'"
      ]
     },
     "execution_count": 57,
     "metadata": {},
     "output_type": "execute_result"
    }
   ],
   "source": [
    "greet(\"Hassaan\", \"Karachi\")"
   ]
  },
  {
   "cell_type": "code",
   "execution_count": null,
   "id": "8ab4d91e-1db9-4265-b207-ded4d35a904b",
   "metadata": {},
   "outputs": [],
   "source": []
  }
 ],
 "metadata": {
  "kernelspec": {
   "display_name": "Python 3 (ipykernel)",
   "language": "python",
   "name": "python3"
  },
  "language_info": {
   "codemirror_mode": {
    "name": "ipython",
    "version": 3
   },
   "file_extension": ".py",
   "mimetype": "text/x-python",
   "name": "python",
   "nbconvert_exporter": "python",
   "pygments_lexer": "ipython3",
   "version": "3.13.7"
  }
 },
 "nbformat": 4,
 "nbformat_minor": 5
}
