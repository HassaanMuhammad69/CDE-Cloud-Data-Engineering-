{
 "cells": [
  {
   "cell_type": "markdown",
   "id": "edef8ef9-67e0-40a3-8ca0-f2f2d18c1987",
   "metadata": {},
   "source": [
    "### LOOPS"
   ]
  },
  {
   "cell_type": "code",
   "execution_count": 6,
   "id": "0757ecfa-31b6-4621-aedb-0323eecbf871",
   "metadata": {},
   "outputs": [
    {
     "name": "stdout",
     "output_type": "stream",
     "text": [
      "1\n",
      "2\n",
      "3\n",
      "4\n",
      "5\n"
     ]
    }
   ],
   "source": [
    "for temp in [1,2,3,4,5]:\n",
    "    print(temp)"
   ]
  },
  {
   "cell_type": "code",
   "execution_count": 8,
   "id": "add12742-d3d3-46ce-b5de-bc5a1b727d19",
   "metadata": {},
   "outputs": [
    {
     "name": "stdout",
     "output_type": "stream",
     "text": [
      "Happy birthday\n",
      "Happy birthday\n",
      "Happy birthday\n",
      "Happy birthday\n",
      "Happy birthday\n"
     ]
    }
   ],
   "source": [
    "HB= \"Happy birthday\"\n",
    "for i in range (5):\n",
    "    print(HB)"
   ]
  },
  {
   "cell_type": "code",
   "execution_count": 24,
   "id": "fbb30e60-0124-4982-b2a5-9260ec267c9b",
   "metadata": {},
   "outputs": [
    {
     "name": "stdin",
     "output_type": "stream",
     "text": [
      "Enter the natural number:  8\n"
     ]
    },
    {
     "name": "stdout",
     "output_type": "stream",
     "text": [
      "0\n",
      "1\n",
      "4\n",
      "9\n",
      "16\n",
      "25\n",
      "36\n",
      "49\n"
     ]
    }
   ],
   "source": [
    "a= int(input(\"Enter the natural number: \"))\n",
    "for a in range(a):\n",
    "     print(a**2)"
   ]
  },
  {
   "cell_type": "code",
   "execution_count": 22,
   "id": "8fe59acd-3bad-4284-b604-140464b9e8e1",
   "metadata": {},
   "outputs": [
    {
     "name": "stdin",
     "output_type": "stream",
     "text": [
      "Enter the natural number:  5\n"
     ]
    },
    {
     "name": "stdout",
     "output_type": "stream",
     "text": [
      "5 x 1 = 5\n",
      "5 x 2 = 10\n",
      "5 x 3 = 15\n",
      "5 x 4 = 20\n",
      "5 x 5 = 25\n",
      "5 x 6 = 30\n",
      "5 x 7 = 35\n",
      "5 x 8 = 40\n",
      "5 x 9 = 45\n",
      "5 x 10 = 50\n"
     ]
    }
   ],
   "source": [
    "a= int(input(\"Enter the natural number: \"))\n",
    "for i in range(1,11):\n",
    "    print(a ,\"x\", i, \"=\" ,i*a)"
   ]
  },
  {
   "cell_type": "code",
   "execution_count": 42,
   "id": "2a44f63a-a283-41da-b90b-383292d4de52",
   "metadata": {},
   "outputs": [
    {
     "name": "stdout",
     "output_type": "stream",
     "text": [
      "2 * 1 = 2\n",
      "2 * 2 = 4\n",
      "2 * 3 = 6\n",
      "2 * 4 = 8\n",
      "2 * 5 = 10\n",
      "2 * 6 = 12\n",
      "2 * 7 = 14\n",
      "2 * 8 = 16\n",
      "2 * 9 = 18\n",
      "2 * 10 = 20\n",
      "3 * 1 = 3\n",
      "3 * 2 = 6\n",
      "3 * 3 = 9\n",
      "3 * 4 = 12\n",
      "3 * 5 = 15\n",
      "3 * 6 = 18\n",
      "3 * 7 = 21\n",
      "3 * 8 = 24\n",
      "3 * 9 = 27\n",
      "4 * 1 = 4\n",
      "4 * 2 = 8\n",
      "4 * 3 = 12\n",
      "4 * 4 = 16\n",
      "4 * 5 = 20\n",
      "4 * 6 = 24\n",
      "4 * 7 = 28\n",
      "4 * 8 = 32\n"
     ]
    }
   ],
   "source": [
    "a= 2\n",
    "b= 3\n",
    "c= 4\n",
    "for times in range(10):\n",
    "     print(f\"{a} * {times+1} = {a*(times+1)}\")\n",
    "     \n",
    "for times in range(9):\n",
    "    print(f\"{b} * {times+1} = {b*(times+1)}\")\n",
    "\n",
    "for times in range(8):\n",
    "    print(f\"{c} * {times+1} = {c*(times+1)}\")"
   ]
  },
  {
   "cell_type": "code",
   "execution_count": 43,
   "id": "e7c61915-a389-489a-952b-8b8feb9f4e1a",
   "metadata": {},
   "outputs": [
    {
     "name": "stdin",
     "output_type": "stream",
     "text": [
      "Enter when we want to create the table:  2\n",
      "Till when we want to create the table:  5\n",
      "How many times you want to print:  10\n"
     ]
    },
    {
     "name": "stdout",
     "output_type": "stream",
     "text": [
      "2 * 1 = 2\n",
      "2 * 2 = 4\n",
      "2 * 3 = 6\n",
      "2 * 4 = 8\n",
      "2 * 5 = 10\n",
      "2 * 6 = 12\n",
      "2 * 7 = 14\n",
      "2 * 8 = 16\n",
      "2 * 9 = 18\n",
      "2 * 10 = 20\n",
      "3 * 1 = 3\n",
      "3 * 2 = 6\n",
      "3 * 3 = 9\n",
      "3 * 4 = 12\n",
      "3 * 5 = 15\n",
      "3 * 6 = 18\n",
      "3 * 7 = 21\n",
      "3 * 8 = 24\n",
      "3 * 9 = 27\n",
      "4 * 1 = 4\n",
      "4 * 2 = 8\n",
      "4 * 3 = 12\n",
      "4 * 4 = 16\n",
      "4 * 5 = 20\n",
      "4 * 6 = 24\n",
      "4 * 7 = 28\n",
      "4 * 8 = 32\n"
     ]
    }
   ],
   "source": [
    "start= int(input(\"Enter when we want to create the table: \"))\n",
    "end=  int(input(\"Till when we want to create the table: \"))\n",
    "times= int(input(\"How many times you want to print: \"))\n",
    "\n",
    "for table in range (start, end):\n",
    "    for temp in range(times):\n",
    "        print(f\"{table} * {temp+1} = {table* (temp+1)}\")\n",
    "    times -=1"
   ]
  },
  {
   "cell_type": "markdown",
   "id": "70128928-4917-40bf-b8ed-ef09991e3b99",
   "metadata": {},
   "source": [
    "### Dictionaries"
   ]
  },
  {
   "cell_type": "code",
   "execution_count": 45,
   "id": "99907048-0221-4a12-a063-859ab8ee111e",
   "metadata": {},
   "outputs": [],
   "source": [
    "biodata= {\"name\": \"Hassaan\",\n",
    "         \"age\": 22,\n",
    "         \"weight\": 64}"
   ]
  },
  {
   "cell_type": "code",
   "execution_count": 48,
   "id": "ea219fc6-ab11-44a7-bd8a-09eb66716a02",
   "metadata": {},
   "outputs": [
    {
     "data": {
      "text/plain": [
       "22"
      ]
     },
     "execution_count": 48,
     "metadata": {},
     "output_type": "execute_result"
    }
   ],
   "source": [
    "biodata.pop(\"age\")"
   ]
  },
  {
   "cell_type": "code",
   "execution_count": 49,
   "id": "8d079004-a4b7-445c-82bf-9675b19bafdf",
   "metadata": {},
   "outputs": [
    {
     "data": {
      "text/plain": [
       "{'name': 'Hassaan', 'weight': 64}"
      ]
     },
     "execution_count": 49,
     "metadata": {},
     "output_type": "execute_result"
    }
   ],
   "source": [
    "biodata"
   ]
  },
  {
   "cell_type": "code",
   "execution_count": 50,
   "id": "307329df-ab71-4460-892e-f7b5b5d1c680",
   "metadata": {},
   "outputs": [],
   "source": [
    "biodata[\"gender\"]=\"Male\""
   ]
  },
  {
   "cell_type": "code",
   "execution_count": 51,
   "id": "f51bc3c0-ee60-4764-85ab-0955e2150dbc",
   "metadata": {},
   "outputs": [
    {
     "data": {
      "text/plain": [
       "{'name': 'Hassaan', 'weight': 64, 'gender': 'Male'}"
      ]
     },
     "execution_count": 51,
     "metadata": {},
     "output_type": "execute_result"
    }
   ],
   "source": [
    "biodata"
   ]
  },
  {
   "cell_type": "code",
   "execution_count": 55,
   "id": "7e7b668b-5d65-4ba5-a549-d57c22fcc4b7",
   "metadata": {},
   "outputs": [
    {
     "data": {
      "text/plain": [
       "('gender', 'Male')"
      ]
     },
     "execution_count": 55,
     "metadata": {},
     "output_type": "execute_result"
    }
   ],
   "source": [
    "biodata.popitem()"
   ]
  },
  {
   "cell_type": "code",
   "execution_count": 57,
   "id": "aed1a08f-ea02-42c5-9285-8e959b452228",
   "metadata": {},
   "outputs": [
    {
     "data": {
      "text/plain": [
       "{'name': 'Hassaan', 'weight': 64}"
      ]
     },
     "execution_count": 57,
     "metadata": {},
     "output_type": "execute_result"
    }
   ],
   "source": [
    "biodata"
   ]
  },
  {
   "cell_type": "code",
   "execution_count": 60,
   "id": "c80e3d81-6d68-4cbf-8565-71a0724a8538",
   "metadata": {},
   "outputs": [],
   "source": [
    "biodata.setdefault(\"CNIC\")"
   ]
  },
  {
   "cell_type": "code",
   "execution_count": 61,
   "id": "4f170494-3359-440e-9c7e-9b629a68e6c6",
   "metadata": {},
   "outputs": [
    {
     "data": {
      "text/plain": [
       "{'name': 'Hassaan', 'weight': 64, 'CNIC': None}"
      ]
     },
     "execution_count": 61,
     "metadata": {},
     "output_type": "execute_result"
    }
   ],
   "source": [
    "biodata"
   ]
  },
  {
   "cell_type": "code",
   "execution_count": 62,
   "id": "815f1673-f058-4afb-9966-b6479cf632bf",
   "metadata": {},
   "outputs": [],
   "source": [
    "biodata.setdefault(\"CNIC\", 655)"
   ]
  },
  {
   "cell_type": "code",
   "execution_count": 63,
   "id": "51a49a30-b552-4e72-9e22-83e3c30bd526",
   "metadata": {},
   "outputs": [
    {
     "data": {
      "text/plain": [
       "{'name': 'Hassaan', 'weight': 64, 'CNIC': None}"
      ]
     },
     "execution_count": 63,
     "metadata": {},
     "output_type": "execute_result"
    }
   ],
   "source": [
    "biodata"
   ]
  },
  {
   "cell_type": "code",
   "execution_count": 66,
   "id": "0a4c916b-bd67-4f99-a422-b23379692270",
   "metadata": {},
   "outputs": [],
   "source": [
    "biodata.update(name= \"Hisham\")"
   ]
  },
  {
   "cell_type": "code",
   "execution_count": 67,
   "id": "0bf8f350-1661-4c07-9333-36039e7dd9e5",
   "metadata": {},
   "outputs": [
    {
     "data": {
      "text/plain": [
       "{'name': 'Hisham', 'weight': 64, 'CNIC': None}"
      ]
     },
     "execution_count": 67,
     "metadata": {},
     "output_type": "execute_result"
    }
   ],
   "source": [
    "biodata"
   ]
  },
  {
   "cell_type": "markdown",
   "id": "8a324b7f-8075-4986-aa27-790ba6b07abe",
   "metadata": {},
   "source": [
    " ### Task"
   ]
  },
  {
   "cell_type": "markdown",
   "id": "39d26e0c-1d68-4ab6-875c-1943cd39d63c",
   "metadata": {},
   "source": [
    " #### List comprehension"
   ]
  },
  {
   "cell_type": "code",
   "execution_count": 69,
   "id": "fde8f54b-f84a-4a36-b662-ed0f74e1b6fd",
   "metadata": {},
   "outputs": [
    {
     "data": {
      "text/plain": [
       "[1, 9, 25, 49]"
      ]
     },
     "execution_count": 69,
     "metadata": {},
     "output_type": "execute_result"
    }
   ],
   "source": [
    "L= [i**2 for i in range(1,8,2)]\n",
    "L"
   ]
  },
  {
   "cell_type": "markdown",
   "id": "61af4dc7-0bed-46df-8ca9-ee538df39236",
   "metadata": {},
   "source": [
    "#### Dictionaries comprehension"
   ]
  },
  {
   "cell_type": "code",
   "execution_count": 70,
   "id": "0ed7f169-ab2c-4767-8b90-f3fec3848ccb",
   "metadata": {},
   "outputs": [],
   "source": [
    "lst1= {\"name\", \"age\", \"gender\"}\n",
    "lst2= {\"Hassaan\", \"22\", \"Male\"}"
   ]
  },
  {
   "cell_type": "code",
   "execution_count": 79,
   "id": "423d4929-10f5-4b03-bc80-7899e295d057",
   "metadata": {},
   "outputs": [
    {
     "ename": "SyntaxError",
     "evalue": "cannot assign to function call here. Maybe you meant '==' instead of '='? (3959333878.py, line 3)",
     "output_type": "error",
     "traceback": [
      "  \u001b[36mCell\u001b[39m\u001b[36m \u001b[39m\u001b[32mIn[79]\u001b[39m\u001b[32m, line 3\u001b[39m\n\u001b[31m    \u001b[39m\u001b[31mBiodata(temp[0])= temp[1]\u001b[39m\n    ^\n\u001b[31mSyntaxError\u001b[39m\u001b[31m:\u001b[39m cannot assign to function call here. Maybe you meant '==' instead of '='?\n"
     ]
    }
   ],
   "source": [
    "Biodata={}\n",
    "for temp in zip(lst1, lst2):\n",
    "    Biodatatemp[0])= temp[1]\n",
    "Biodata"
   ]
  },
  {
   "cell_type": "code",
   "execution_count": null,
   "id": "86dc668e-a6b7-470a-bb14-af54f97b568b",
   "metadata": {},
   "outputs": [],
   "source": []
  }
 ],
 "metadata": {
  "kernelspec": {
   "display_name": "Python 3 (ipykernel)",
   "language": "python",
   "name": "python3"
  },
  "language_info": {
   "codemirror_mode": {
    "name": "ipython",
    "version": 3
   },
   "file_extension": ".py",
   "mimetype": "text/x-python",
   "name": "python",
   "nbconvert_exporter": "python",
   "pygments_lexer": "ipython3",
   "version": "3.13.7"
  }
 },
 "nbformat": 4,
 "nbformat_minor": 5
}
