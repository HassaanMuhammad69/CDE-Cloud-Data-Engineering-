{
 "cells": [
  {
   "cell_type": "markdown",
   "id": "20b08923-5d24-49dc-b62f-f3612e8446f1",
   "metadata": {},
   "source": [
    "## Classes\n",
    "\n",
    "- Class initalize with proper name\n",
    "- Contrscutor\n",
    "  - Attributes\n",
    "- Method\n",
    "\n",
    "## OOP (Object orineted programming) \n",
    "- Inheritance\n",
    "- Abstraction\n",
    "- Polymorphism\n",
    "- Encapsulation "
   ]
  },
  {
   "cell_type": "code",
   "execution_count": 6,
   "id": "a6c22637-e693-47b3-ac20-97fe0518ec2d",
   "metadata": {},
   "outputs": [],
   "source": [
    "class Parents():\n",
    "    def __init__(self,eye_color, hair_color): #constructor\n",
    "        self.eye_color= eye_color           #attributes\n",
    "        self.hair_color= hair_color\n",
    "\n",
    "    def can_paint(self):  #method\n",
    "        print(f\"Have abiltiy to draw/paint arts\")"
   ]
  },
  {
   "cell_type": "code",
   "execution_count": 8,
   "id": "eab90d93-cb14-466b-97fa-da1e2f8880b3",
   "metadata": {},
   "outputs": [
    {
     "name": "stdout",
     "output_type": "stream",
     "text": [
      "Brown\n",
      "brown\n",
      "Have abiltiy to draw/paint arts\n"
     ]
    }
   ],
   "source": [
    "par_obj= Parents(\"Brown\", \"brown\")\n",
    "\n",
    "print(par_obj.eye_color)\n",
    "print(par_obj.hair_color)\n",
    "par_obj.can_paint()"
   ]
  },
  {
   "cell_type": "code",
   "execution_count": 10,
   "id": "ef38d629-9a12-4fa8-99ff-1f34b58dc637",
   "metadata": {},
   "outputs": [],
   "source": [
    "class Child(Parents):\n",
    "    pass"
   ]
  },
  {
   "cell_type": "code",
   "execution_count": 12,
   "id": "2062139e-26ce-4686-9591-0beffffd74b4",
   "metadata": {},
   "outputs": [
    {
     "name": "stdout",
     "output_type": "stream",
     "text": [
      "Brown\n",
      "black\n",
      "Have abiltiy to draw/paint arts\n"
     ]
    }
   ],
   "source": [
    "child_obj= Child(\"Brown\", \"black\")\n",
    "\n",
    "print(child_obj.eye_color)\n",
    "print(child_obj.hair_color)\n",
    "child_obj.can_paint()"
   ]
  },
  {
   "cell_type": "code",
   "execution_count": 16,
   "id": "2b09b107-8919-46d3-8e5f-f52dfc9733cc",
   "metadata": {},
   "outputs": [],
   "source": [
    "class Child(Parents):\n",
    "    def __init__(self,eye_color, hair_color, skin_color):\n",
    "        super().__init__(eye_color, hair_color)\n",
    "        self.skin_color= skin_color\n",
    "\n",
    "    def can_drive(self):\n",
    "        print(f\"Child can drive as well\")"
   ]
  },
  {
   "cell_type": "code",
   "execution_count": 17,
   "id": "8c75e110-14b0-4a8f-bd14-1b9f35a43e30",
   "metadata": {},
   "outputs": [
    {
     "name": "stdout",
     "output_type": "stream",
     "text": [
      "Brown\n",
      "black\n",
      "White\n",
      "Have abiltiy to draw/paint arts\n"
     ]
    }
   ],
   "source": [
    "child_obj= Child(\"Brown\", \"black\", \"White\")\n",
    "\n",
    "print(child_obj.eye_color)\n",
    "print(child_obj.hair_color)\n",
    "print(child_obj.skin_color)\n",
    "child_obj.can_paint()"
   ]
  },
  {
   "cell_type": "markdown",
   "id": "fefc8ac3-6b63-405c-beec-c7d997ea7baa",
   "metadata": {},
   "source": [
    "### Task\n",
    "- Crearte a class with name Father which have two attributes and one method\n",
    "- Create a class with name child that inherit characterstics of father but should have atleast one more attribute and method than father class"
   ]
  },
  {
   "cell_type": "code",
   "execution_count": 18,
   "id": "4c1f7df0-50cc-499b-8dea-476640cf6c4a",
   "metadata": {},
   "outputs": [],
   "source": [
    "class Father():\n",
    "\n",
    "    def __init__(self,eye_color, hair_color): #constructor\n",
    "        self.eye_color= eye_color           #attributes\n",
    "        self.hair_color= hair_color\n",
    "\n",
    "    def can_hunt(self):  #method\n",
    "        print(f\"Have abiltiy to hunt\")"
   ]
  },
  {
   "cell_type": "code",
   "execution_count": 20,
   "id": "8a59f3b8-bfa6-4e20-8d1f-e33fc220d2aa",
   "metadata": {},
   "outputs": [
    {
     "name": "stdout",
     "output_type": "stream",
     "text": [
      "Brown\n",
      "brown\n",
      "Have abiltiy to hunt\n"
     ]
    }
   ],
   "source": [
    "father_obj= Father(\"Brown\", \"brown\")\n",
    "\n",
    "print(father_obj.eye_color)\n",
    "print(father_obj.hair_color)\n",
    "father_obj.can_hunt()"
   ]
  },
  {
   "cell_type": "code",
   "execution_count": 30,
   "id": "29bf6358-0bfa-4766-9b70-72baacb77217",
   "metadata": {},
   "outputs": [],
   "source": [
    "class Mother():\n",
    "\n",
    "    def __init__(self,wealth,beauty): #constructor           \n",
    "        self.wealth= wealth      #attributes\n",
    "        self.beauty= beauty\n",
    "\n",
    "    def can_cook(self):  #method\n",
    "        print(f\"Have abiltiy to cook\")"
   ]
  },
  {
   "cell_type": "code",
   "execution_count": 31,
   "id": "11353844-cbb9-4d18-bb63-24ec2b220174",
   "metadata": {},
   "outputs": [
    {
     "name": "stdout",
     "output_type": "stream",
     "text": [
      "Millionire\n",
      "Elegant\n",
      "Have abiltiy to cook\n"
     ]
    }
   ],
   "source": [
    "mother_obj= Mother(\"Millionire\", \"Elegant\")\n",
    "\n",
    "print(mother_obj.wealth)\n",
    "print(mother_obj.beauty)\n",
    "mother_obj.can_cook()"
   ]
  },
  {
   "cell_type": "code",
   "execution_count": 54,
   "id": "70fc822e-d6cd-4583-86a2-14cb7e7f6d0b",
   "metadata": {},
   "outputs": [],
   "source": [
    "class Child(Father,Mother):\n",
    "    def __init__(self,eye_color, hair_color, wealth, beauty, skin_color):\n",
    "        Father.__init__(self,eye_color, hair_color)\n",
    "        Mother.__init__(self,wealth,beauty)\n",
    "        self.skin_color= skin_color\n",
    "        \n",
    "\n",
    "    def can_swim(self):\n",
    "        print(f\"Child can swim as well\")\n",
    "\n",
    "    def can_paint(self):\n",
    "        print(f\"Child can paint as well\")"
   ]
  },
  {
   "cell_type": "code",
   "execution_count": 57,
   "id": "f04fc876-02bb-4b48-8f88-41c7c5043711",
   "metadata": {},
   "outputs": [
    {
     "name": "stdout",
     "output_type": "stream",
     "text": [
      "Brown\n",
      "black\n",
      "Handsome\n",
      "Billiorne\n",
      "White\n",
      "Have abiltiy to hunt\n",
      "Child can swim as well\n",
      "Have abiltiy to cook\n"
     ]
    }
   ],
   "source": [
    "child_obj= Child(\"Brown\", \"black\",\"Billiorne\",\"Handsome\", \"White\")\n",
    "\n",
    "print(child_obj.eye_color)\n",
    "print(child_obj.hair_color)\n",
    "print(child_obj.beauty)\n",
    "print(child_obj.wealth)\n",
    "print(child_obj.skin_color)\n",
    "\n",
    "child_obj.can_hunt()\n",
    "child_obj.can_swim()\n",
    "child_obj.can_cook()"
   ]
  },
  {
   "cell_type": "markdown",
   "id": "296662e6-f295-4687-8073-0ce41206513f",
   "metadata": {},
   "source": [
    "### Overriding"
   ]
  },
  {
   "cell_type": "code",
   "execution_count": 70,
   "id": "3d2014cd-1990-4329-b1ee-3b8d2e8e7b89",
   "metadata": {},
   "outputs": [],
   "source": [
    "class Animal():\n",
    "    def can_eat(self):\n",
    "        print(\"Animal can eats\")\n",
    "\n",
    "class Birds(Animal):\n",
    "    def can_eat(self):\n",
    "        print(\"Birds  can eats\")"
   ]
  },
  {
   "cell_type": "code",
   "execution_count": 71,
   "id": "5762bf85-521a-47a8-bbd3-91fe6d1ce0ab",
   "metadata": {},
   "outputs": [
    {
     "name": "stdout",
     "output_type": "stream",
     "text": [
      "Animal can eats\n"
     ]
    }
   ],
   "source": [
    "ani_obj= Animal()\n",
    "ani_obj.can_eat()"
   ]
  },
  {
   "cell_type": "code",
   "execution_count": 72,
   "id": "a7e66ed2-2f31-436a-b663-6ef1afad1bae",
   "metadata": {},
   "outputs": [
    {
     "name": "stdout",
     "output_type": "stream",
     "text": [
      "Birds  can eats\n"
     ]
    }
   ],
   "source": [
    "birds_obj= Birds()\n",
    "birds_obj.can_eat()"
   ]
  },
  {
   "cell_type": "markdown",
   "id": "81363fa8-346b-445f-b6b2-d34ae989e883",
   "metadata": {},
   "source": [
    "### OverLoading"
   ]
  },
  {
   "cell_type": "code",
   "execution_count": 66,
   "id": "8ce9ce16-061d-4c4e-b32a-789b0a600d13",
   "metadata": {},
   "outputs": [],
   "source": [
    "from typing import overload\n",
    "\n",
    "class Adder():\n",
    "\n",
    "    @overload\n",
    "    def add(self,x:int, y:int) -> int:\n",
    "     ...\n",
    "    @overload\n",
    "    def add(self,x:float, y:float) -> float:\n",
    "     ...\n",
    "    @overload\n",
    "    def add(self,x:str, y:str) -> str:\n",
    "     ...\n",
    "    def add(self, x, y):\n",
    "        if isinstance(x,int) and isinstance (y, int):\n",
    "            return x+ y\n",
    "        elif isinstance(x,float) and isinstance (y, float):\n",
    "            return x+ y\n",
    "        elif isinstance(x,str) and isinstance (y, str):\n",
    "            return x+ y\n",
    "        else:\n",
    "            print(\"Error\")"
   ]
  },
  {
   "cell_type": "code",
   "execution_count": 69,
   "id": "d1d7e95d-5932-40e0-a212-e92bfcf1394d",
   "metadata": {},
   "outputs": [
    {
     "data": {
      "text/plain": [
       "3"
      ]
     },
     "execution_count": 69,
     "metadata": {},
     "output_type": "execute_result"
    }
   ],
   "source": [
    "adder_obj= Adder()\n",
    "adder_obj.add(1, 2)"
   ]
  },
  {
   "cell_type": "code",
   "execution_count": null,
   "id": "8682a980-f2e4-4115-a431-9d87d69cc6a8",
   "metadata": {},
   "outputs": [],
   "source": [
    " "
   ]
  }
 ],
 "metadata": {
  "kernelspec": {
   "display_name": "Python 3 (ipykernel)",
   "language": "python",
   "name": "python3"
  },
  "language_info": {
   "codemirror_mode": {
    "name": "ipython",
    "version": 3
   },
   "file_extension": ".py",
   "mimetype": "text/x-python",
   "name": "python",
   "nbconvert_exporter": "python",
   "pygments_lexer": "ipython3",
   "version": "3.13.7"
  }
 },
 "nbformat": 4,
 "nbformat_minor": 5
}
